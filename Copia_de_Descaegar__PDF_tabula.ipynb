{
  "nbformat": 4,
  "nbformat_minor": 0,
  "metadata": {
    "colab": {
      "provenance": [],
      "authorship_tag": "ABX9TyPjNUB3fUJPGybnm97g17AI",
      "include_colab_link": true
    },
    "kernelspec": {
      "name": "python3",
      "display_name": "Python 3"
    },
    "language_info": {
      "name": "python"
    }
  },
  "cells": [
    {
      "cell_type": "markdown",
      "metadata": {
        "id": "view-in-github",
        "colab_type": "text"
      },
      "source": [
        "<a href=\"https://colab.research.google.com/github/richbello/Alcaldia_Usme/blob/main/Copia_de_Descaegar__PDF_tabula.ipynb\" target=\"_parent\"><img src=\"https://colab.research.google.com/assets/colab-badge.svg\" alt=\"Open In Colab\"/></a>"
      ]
    },
    {
      "cell_type": "code",
      "execution_count": null,
      "metadata": {
        "colab": {
          "base_uri": "https://localhost:8080/",
          "height": 594
        },
        "id": "WZbd-vAiYqRM",
        "outputId": "1a6f28c4-e6f7-4dec-8ba8-0ba3bdc9e81a"
      },
      "outputs": [
        {
          "output_type": "display_data",
          "data": {
            "text/plain": [
              "<IPython.core.display.HTML object>"
            ],
            "text/html": [
              "\n",
              "     <input type=\"file\" id=\"files-522b56d1-b98d-4e63-bd40-33f06ede394c\" name=\"files[]\" multiple disabled\n",
              "        style=\"border:none\" />\n",
              "     <output id=\"result-522b56d1-b98d-4e63-bd40-33f06ede394c\">\n",
              "      Upload widget is only available when the cell has been executed in the\n",
              "      current browser session. Please rerun this cell to enable.\n",
              "      </output>\n",
              "      <script>// Copyright 2017 Google LLC\n",
              "//\n",
              "// Licensed under the Apache License, Version 2.0 (the \"License\");\n",
              "// you may not use this file except in compliance with the License.\n",
              "// You may obtain a copy of the License at\n",
              "//\n",
              "//      http://www.apache.org/licenses/LICENSE-2.0\n",
              "//\n",
              "// Unless required by applicable law or agreed to in writing, software\n",
              "// distributed under the License is distributed on an \"AS IS\" BASIS,\n",
              "// WITHOUT WARRANTIES OR CONDITIONS OF ANY KIND, either express or implied.\n",
              "// See the License for the specific language governing permissions and\n",
              "// limitations under the License.\n",
              "\n",
              "/**\n",
              " * @fileoverview Helpers for google.colab Python module.\n",
              " */\n",
              "(function(scope) {\n",
              "function span(text, styleAttributes = {}) {\n",
              "  const element = document.createElement('span');\n",
              "  element.textContent = text;\n",
              "  for (const key of Object.keys(styleAttributes)) {\n",
              "    element.style[key] = styleAttributes[key];\n",
              "  }\n",
              "  return element;\n",
              "}\n",
              "\n",
              "// Max number of bytes which will be uploaded at a time.\n",
              "const MAX_PAYLOAD_SIZE = 100 * 1024;\n",
              "\n",
              "function _uploadFiles(inputId, outputId) {\n",
              "  const steps = uploadFilesStep(inputId, outputId);\n",
              "  const outputElement = document.getElementById(outputId);\n",
              "  // Cache steps on the outputElement to make it available for the next call\n",
              "  // to uploadFilesContinue from Python.\n",
              "  outputElement.steps = steps;\n",
              "\n",
              "  return _uploadFilesContinue(outputId);\n",
              "}\n",
              "\n",
              "// This is roughly an async generator (not supported in the browser yet),\n",
              "// where there are multiple asynchronous steps and the Python side is going\n",
              "// to poll for completion of each step.\n",
              "// This uses a Promise to block the python side on completion of each step,\n",
              "// then passes the result of the previous step as the input to the next step.\n",
              "function _uploadFilesContinue(outputId) {\n",
              "  const outputElement = document.getElementById(outputId);\n",
              "  const steps = outputElement.steps;\n",
              "\n",
              "  const next = steps.next(outputElement.lastPromiseValue);\n",
              "  return Promise.resolve(next.value.promise).then((value) => {\n",
              "    // Cache the last promise value to make it available to the next\n",
              "    // step of the generator.\n",
              "    outputElement.lastPromiseValue = value;\n",
              "    return next.value.response;\n",
              "  });\n",
              "}\n",
              "\n",
              "/**\n",
              " * Generator function which is called between each async step of the upload\n",
              " * process.\n",
              " * @param {string} inputId Element ID of the input file picker element.\n",
              " * @param {string} outputId Element ID of the output display.\n",
              " * @return {!Iterable<!Object>} Iterable of next steps.\n",
              " */\n",
              "function* uploadFilesStep(inputId, outputId) {\n",
              "  const inputElement = document.getElementById(inputId);\n",
              "  inputElement.disabled = false;\n",
              "\n",
              "  const outputElement = document.getElementById(outputId);\n",
              "  outputElement.innerHTML = '';\n",
              "\n",
              "  const pickedPromise = new Promise((resolve) => {\n",
              "    inputElement.addEventListener('change', (e) => {\n",
              "      resolve(e.target.files);\n",
              "    });\n",
              "  });\n",
              "\n",
              "  const cancel = document.createElement('button');\n",
              "  inputElement.parentElement.appendChild(cancel);\n",
              "  cancel.textContent = 'Cancel upload';\n",
              "  const cancelPromise = new Promise((resolve) => {\n",
              "    cancel.onclick = () => {\n",
              "      resolve(null);\n",
              "    };\n",
              "  });\n",
              "\n",
              "  // Wait for the user to pick the files.\n",
              "  const files = yield {\n",
              "    promise: Promise.race([pickedPromise, cancelPromise]),\n",
              "    response: {\n",
              "      action: 'starting',\n",
              "    }\n",
              "  };\n",
              "\n",
              "  cancel.remove();\n",
              "\n",
              "  // Disable the input element since further picks are not allowed.\n",
              "  inputElement.disabled = true;\n",
              "\n",
              "  if (!files) {\n",
              "    return {\n",
              "      response: {\n",
              "        action: 'complete',\n",
              "      }\n",
              "    };\n",
              "  }\n",
              "\n",
              "  for (const file of files) {\n",
              "    const li = document.createElement('li');\n",
              "    li.append(span(file.name, {fontWeight: 'bold'}));\n",
              "    li.append(span(\n",
              "        `(${file.type || 'n/a'}) - ${file.size} bytes, ` +\n",
              "        `last modified: ${\n",
              "            file.lastModifiedDate ? file.lastModifiedDate.toLocaleDateString() :\n",
              "                                    'n/a'} - `));\n",
              "    const percent = span('0% done');\n",
              "    li.appendChild(percent);\n",
              "\n",
              "    outputElement.appendChild(li);\n",
              "\n",
              "    const fileDataPromise = new Promise((resolve) => {\n",
              "      const reader = new FileReader();\n",
              "      reader.onload = (e) => {\n",
              "        resolve(e.target.result);\n",
              "      };\n",
              "      reader.readAsArrayBuffer(file);\n",
              "    });\n",
              "    // Wait for the data to be ready.\n",
              "    let fileData = yield {\n",
              "      promise: fileDataPromise,\n",
              "      response: {\n",
              "        action: 'continue',\n",
              "      }\n",
              "    };\n",
              "\n",
              "    // Use a chunked sending to avoid message size limits. See b/62115660.\n",
              "    let position = 0;\n",
              "    do {\n",
              "      const length = Math.min(fileData.byteLength - position, MAX_PAYLOAD_SIZE);\n",
              "      const chunk = new Uint8Array(fileData, position, length);\n",
              "      position += length;\n",
              "\n",
              "      const base64 = btoa(String.fromCharCode.apply(null, chunk));\n",
              "      yield {\n",
              "        response: {\n",
              "          action: 'append',\n",
              "          file: file.name,\n",
              "          data: base64,\n",
              "        },\n",
              "      };\n",
              "\n",
              "      let percentDone = fileData.byteLength === 0 ?\n",
              "          100 :\n",
              "          Math.round((position / fileData.byteLength) * 100);\n",
              "      percent.textContent = `${percentDone}% done`;\n",
              "\n",
              "    } while (position < fileData.byteLength);\n",
              "  }\n",
              "\n",
              "  // All done.\n",
              "  yield {\n",
              "    response: {\n",
              "      action: 'complete',\n",
              "    }\n",
              "  };\n",
              "}\n",
              "\n",
              "scope.google = scope.google || {};\n",
              "scope.google.colab = scope.google.colab || {};\n",
              "scope.google.colab._files = {\n",
              "  _uploadFiles,\n",
              "  _uploadFilesContinue,\n",
              "};\n",
              "})(self);\n",
              "</script> "
            ]
          },
          "metadata": {}
        },
        {
          "output_type": "stream",
          "name": "stdout",
          "text": [
            "Saving REGISTROS PRESUPUESTALES CONSECUTIVO 2005.pdf to REGISTROS PRESUPUESTALES CONSECUTIVO 2005.pdf\n",
            "Saving REGISTROS PRESUPUESTALES CONSECUTIVO 2006.pdf to REGISTROS PRESUPUESTALES CONSECUTIVO 2006.pdf\n",
            "Saving REGISTROS PRESUPUESTALES CONSECUTIVO 2007.pdf to REGISTROS PRESUPUESTALES CONSECUTIVO 2007.pdf\n",
            "Saving REGISTROS PRESUPUESTALES CONSECUTIVO 2008.pdf to REGISTROS PRESUPUESTALES CONSECUTIVO 2008.pdf\n",
            "Saving REGISTROS PRESUPUESTALES CONSECUTIVO 2009.pdf to REGISTROS PRESUPUESTALES CONSECUTIVO 2009.pdf\n",
            "Saving REGISTROS PRESUPUESTALES CONSECUTIVO 2010.pdf to REGISTROS PRESUPUESTALES CONSECUTIVO 2010.pdf\n",
            "Saving REGISTROS PRESUPUESTALES CONSECUTIVO 2011.pdf to REGISTROS PRESUPUESTALES CONSECUTIVO 2011.pdf\n",
            "Saving REGISTROS PRESUPUESTALES CONSECUTIVO 2012.pdf to REGISTROS PRESUPUESTALES CONSECUTIVO 2012.pdf\n",
            "Saving REGISTROS PRESUPUESTALES CONSECUTIVO 2013.pdf to REGISTROS PRESUPUESTALES CONSECUTIVO 2013.pdf\n",
            "Saving REGISTROS PRESUPUESTALES CONSECUTIVO 2014.pdf to REGISTROS PRESUPUESTALES CONSECUTIVO 2014.pdf\n",
            "Saving REGISTROS PRESUPUESTALES CONSECUTIVO 2015.pdf to REGISTROS PRESUPUESTALES CONSECUTIVO 2015.pdf\n",
            "Saving REGISTROS PRESUPUESTALES CONSECUTIVO 2016.pdf to REGISTROS PRESUPUESTALES CONSECUTIVO 2016.pdf\n",
            "Saving REGISTROS PRESUPUESTALES CONSECUTIVO 2017.pdf to REGISTROS PRESUPUESTALES CONSECUTIVO 2017.pdf\n",
            "Saving REGISTROS PRESUPUESTALES CONSECUTIVO 2018.pdf to REGISTROS PRESUPUESTALES CONSECUTIVO 2018.pdf\n",
            "Saving REGISTROS PRESUPUESTALES CONSECUTIVO 2019.pdf to REGISTROS PRESUPUESTALES CONSECUTIVO 2019.pdf\n",
            "Saving REGISTROS PRESUPUESTALES CONSECUTIVO 2020.pdf to REGISTROS PRESUPUESTALES CONSECUTIVO 2020.pdf\n"
          ]
        }
      ],
      "source": [
        "import pandas as pd\n",
        "import numpy as np\n",
        "from google.colab import files\n",
        "\n",
        "# 1. Subir TODOS los Excels 2005–2020 convertidos desde PDF\n",
        "uploaded = files.upload()\n",
        "archivos = list(uploaded.keys())"
      ]
    },
    {
      "cell_type": "code",
      "source": [
        "# 2. Función para limpiar un archivo desconfigurado\n",
        "def limpiar_excel(file):\n",
        "    df = pd.read_excel(file)\n"
      ],
      "metadata": {
        "id": "mNOskdtPa0nO"
      },
      "execution_count": null,
      "outputs": []
    },
    {
      "cell_type": "code",
      "source": [
        "!pip install tabula-py\n"
      ],
      "metadata": {
        "colab": {
          "base_uri": "https://localhost:8080/"
        },
        "id": "ytUakqtUbjR1",
        "outputId": "59f217f6-1abd-4aed-8a1b-d1b72138ed32"
      },
      "execution_count": null,
      "outputs": [
        {
          "output_type": "stream",
          "name": "stdout",
          "text": [
            "Collecting tabula-py\n",
            "  Downloading tabula_py-2.10.0-py3-none-any.whl.metadata (7.6 kB)\n",
            "Requirement already satisfied: pandas>=0.25.3 in /usr/local/lib/python3.12/dist-packages (from tabula-py) (2.2.2)\n",
            "Requirement already satisfied: numpy>1.24.4 in /usr/local/lib/python3.12/dist-packages (from tabula-py) (2.0.2)\n",
            "Requirement already satisfied: distro in /usr/local/lib/python3.12/dist-packages (from tabula-py) (1.9.0)\n",
            "Requirement already satisfied: python-dateutil>=2.8.2 in /usr/local/lib/python3.12/dist-packages (from pandas>=0.25.3->tabula-py) (2.9.0.post0)\n",
            "Requirement already satisfied: pytz>=2020.1 in /usr/local/lib/python3.12/dist-packages (from pandas>=0.25.3->tabula-py) (2025.2)\n",
            "Requirement already satisfied: tzdata>=2022.7 in /usr/local/lib/python3.12/dist-packages (from pandas>=0.25.3->tabula-py) (2025.2)\n",
            "Requirement already satisfied: six>=1.5 in /usr/local/lib/python3.12/dist-packages (from python-dateutil>=2.8.2->pandas>=0.25.3->tabula-py) (1.17.0)\n",
            "Downloading tabula_py-2.10.0-py3-none-any.whl (12.0 MB)\n",
            "\u001b[2K   \u001b[90m━━━━━━━━━━━━━━━━━━━━━━━━━━━━━━━━━━━━━━━━\u001b[0m \u001b[32m12.0/12.0 MB\u001b[0m \u001b[31m95.0 MB/s\u001b[0m eta \u001b[36m0:00:00\u001b[0m\n",
            "\u001b[?25hInstalling collected packages: tabula-py\n",
            "Successfully installed tabula-py-2.10.0\n"
          ]
        }
      ]
    },
    {
      "cell_type": "code",
      "source": [
        "from google.colab import files\n",
        "\n",
        "uploaded = files.upload()\n"
      ],
      "metadata": {
        "colab": {
          "base_uri": "https://localhost:8080/",
          "height": 594
        },
        "id": "9ZkGu7QZbwDc",
        "outputId": "2262eb4e-8f9a-47a5-ab83-03eef872c285"
      },
      "execution_count": null,
      "outputs": [
        {
          "output_type": "display_data",
          "data": {
            "text/plain": [
              "<IPython.core.display.HTML object>"
            ],
            "text/html": [
              "\n",
              "     <input type=\"file\" id=\"files-b3dba085-39b3-4bae-b3d9-e534b4d245a1\" name=\"files[]\" multiple disabled\n",
              "        style=\"border:none\" />\n",
              "     <output id=\"result-b3dba085-39b3-4bae-b3d9-e534b4d245a1\">\n",
              "      Upload widget is only available when the cell has been executed in the\n",
              "      current browser session. Please rerun this cell to enable.\n",
              "      </output>\n",
              "      <script>// Copyright 2017 Google LLC\n",
              "//\n",
              "// Licensed under the Apache License, Version 2.0 (the \"License\");\n",
              "// you may not use this file except in compliance with the License.\n",
              "// You may obtain a copy of the License at\n",
              "//\n",
              "//      http://www.apache.org/licenses/LICENSE-2.0\n",
              "//\n",
              "// Unless required by applicable law or agreed to in writing, software\n",
              "// distributed under the License is distributed on an \"AS IS\" BASIS,\n",
              "// WITHOUT WARRANTIES OR CONDITIONS OF ANY KIND, either express or implied.\n",
              "// See the License for the specific language governing permissions and\n",
              "// limitations under the License.\n",
              "\n",
              "/**\n",
              " * @fileoverview Helpers for google.colab Python module.\n",
              " */\n",
              "(function(scope) {\n",
              "function span(text, styleAttributes = {}) {\n",
              "  const element = document.createElement('span');\n",
              "  element.textContent = text;\n",
              "  for (const key of Object.keys(styleAttributes)) {\n",
              "    element.style[key] = styleAttributes[key];\n",
              "  }\n",
              "  return element;\n",
              "}\n",
              "\n",
              "// Max number of bytes which will be uploaded at a time.\n",
              "const MAX_PAYLOAD_SIZE = 100 * 1024;\n",
              "\n",
              "function _uploadFiles(inputId, outputId) {\n",
              "  const steps = uploadFilesStep(inputId, outputId);\n",
              "  const outputElement = document.getElementById(outputId);\n",
              "  // Cache steps on the outputElement to make it available for the next call\n",
              "  // to uploadFilesContinue from Python.\n",
              "  outputElement.steps = steps;\n",
              "\n",
              "  return _uploadFilesContinue(outputId);\n",
              "}\n",
              "\n",
              "// This is roughly an async generator (not supported in the browser yet),\n",
              "// where there are multiple asynchronous steps and the Python side is going\n",
              "// to poll for completion of each step.\n",
              "// This uses a Promise to block the python side on completion of each step,\n",
              "// then passes the result of the previous step as the input to the next step.\n",
              "function _uploadFilesContinue(outputId) {\n",
              "  const outputElement = document.getElementById(outputId);\n",
              "  const steps = outputElement.steps;\n",
              "\n",
              "  const next = steps.next(outputElement.lastPromiseValue);\n",
              "  return Promise.resolve(next.value.promise).then((value) => {\n",
              "    // Cache the last promise value to make it available to the next\n",
              "    // step of the generator.\n",
              "    outputElement.lastPromiseValue = value;\n",
              "    return next.value.response;\n",
              "  });\n",
              "}\n",
              "\n",
              "/**\n",
              " * Generator function which is called between each async step of the upload\n",
              " * process.\n",
              " * @param {string} inputId Element ID of the input file picker element.\n",
              " * @param {string} outputId Element ID of the output display.\n",
              " * @return {!Iterable<!Object>} Iterable of next steps.\n",
              " */\n",
              "function* uploadFilesStep(inputId, outputId) {\n",
              "  const inputElement = document.getElementById(inputId);\n",
              "  inputElement.disabled = false;\n",
              "\n",
              "  const outputElement = document.getElementById(outputId);\n",
              "  outputElement.innerHTML = '';\n",
              "\n",
              "  const pickedPromise = new Promise((resolve) => {\n",
              "    inputElement.addEventListener('change', (e) => {\n",
              "      resolve(e.target.files);\n",
              "    });\n",
              "  });\n",
              "\n",
              "  const cancel = document.createElement('button');\n",
              "  inputElement.parentElement.appendChild(cancel);\n",
              "  cancel.textContent = 'Cancel upload';\n",
              "  const cancelPromise = new Promise((resolve) => {\n",
              "    cancel.onclick = () => {\n",
              "      resolve(null);\n",
              "    };\n",
              "  });\n",
              "\n",
              "  // Wait for the user to pick the files.\n",
              "  const files = yield {\n",
              "    promise: Promise.race([pickedPromise, cancelPromise]),\n",
              "    response: {\n",
              "      action: 'starting',\n",
              "    }\n",
              "  };\n",
              "\n",
              "  cancel.remove();\n",
              "\n",
              "  // Disable the input element since further picks are not allowed.\n",
              "  inputElement.disabled = true;\n",
              "\n",
              "  if (!files) {\n",
              "    return {\n",
              "      response: {\n",
              "        action: 'complete',\n",
              "      }\n",
              "    };\n",
              "  }\n",
              "\n",
              "  for (const file of files) {\n",
              "    const li = document.createElement('li');\n",
              "    li.append(span(file.name, {fontWeight: 'bold'}));\n",
              "    li.append(span(\n",
              "        `(${file.type || 'n/a'}) - ${file.size} bytes, ` +\n",
              "        `last modified: ${\n",
              "            file.lastModifiedDate ? file.lastModifiedDate.toLocaleDateString() :\n",
              "                                    'n/a'} - `));\n",
              "    const percent = span('0% done');\n",
              "    li.appendChild(percent);\n",
              "\n",
              "    outputElement.appendChild(li);\n",
              "\n",
              "    const fileDataPromise = new Promise((resolve) => {\n",
              "      const reader = new FileReader();\n",
              "      reader.onload = (e) => {\n",
              "        resolve(e.target.result);\n",
              "      };\n",
              "      reader.readAsArrayBuffer(file);\n",
              "    });\n",
              "    // Wait for the data to be ready.\n",
              "    let fileData = yield {\n",
              "      promise: fileDataPromise,\n",
              "      response: {\n",
              "        action: 'continue',\n",
              "      }\n",
              "    };\n",
              "\n",
              "    // Use a chunked sending to avoid message size limits. See b/62115660.\n",
              "    let position = 0;\n",
              "    do {\n",
              "      const length = Math.min(fileData.byteLength - position, MAX_PAYLOAD_SIZE);\n",
              "      const chunk = new Uint8Array(fileData, position, length);\n",
              "      position += length;\n",
              "\n",
              "      const base64 = btoa(String.fromCharCode.apply(null, chunk));\n",
              "      yield {\n",
              "        response: {\n",
              "          action: 'append',\n",
              "          file: file.name,\n",
              "          data: base64,\n",
              "        },\n",
              "      };\n",
              "\n",
              "      let percentDone = fileData.byteLength === 0 ?\n",
              "          100 :\n",
              "          Math.round((position / fileData.byteLength) * 100);\n",
              "      percent.textContent = `${percentDone}% done`;\n",
              "\n",
              "    } while (position < fileData.byteLength);\n",
              "  }\n",
              "\n",
              "  // All done.\n",
              "  yield {\n",
              "    response: {\n",
              "      action: 'complete',\n",
              "    }\n",
              "  };\n",
              "}\n",
              "\n",
              "scope.google = scope.google || {};\n",
              "scope.google.colab = scope.google.colab || {};\n",
              "scope.google.colab._files = {\n",
              "  _uploadFiles,\n",
              "  _uploadFilesContinue,\n",
              "};\n",
              "})(self);\n",
              "</script> "
            ]
          },
          "metadata": {}
        },
        {
          "output_type": "stream",
          "name": "stdout",
          "text": [
            "Saving REGISTROS PRESUPUESTALES CONSECUTIVO 2005.pdf to REGISTROS PRESUPUESTALES CONSECUTIVO 2005 (2).pdf\n",
            "Saving REGISTROS PRESUPUESTALES CONSECUTIVO 2006.pdf to REGISTROS PRESUPUESTALES CONSECUTIVO 2006 (2).pdf\n",
            "Saving REGISTROS PRESUPUESTALES CONSECUTIVO 2007.pdf to REGISTROS PRESUPUESTALES CONSECUTIVO 2007 (2).pdf\n",
            "Saving REGISTROS PRESUPUESTALES CONSECUTIVO 2008.pdf to REGISTROS PRESUPUESTALES CONSECUTIVO 2008 (2).pdf\n",
            "Saving REGISTROS PRESUPUESTALES CONSECUTIVO 2009.pdf to REGISTROS PRESUPUESTALES CONSECUTIVO 2009 (2).pdf\n",
            "Saving REGISTROS PRESUPUESTALES CONSECUTIVO 2010.pdf to REGISTROS PRESUPUESTALES CONSECUTIVO 2010 (2).pdf\n",
            "Saving REGISTROS PRESUPUESTALES CONSECUTIVO 2011.pdf to REGISTROS PRESUPUESTALES CONSECUTIVO 2011 (2).pdf\n",
            "Saving REGISTROS PRESUPUESTALES CONSECUTIVO 2012.pdf to REGISTROS PRESUPUESTALES CONSECUTIVO 2012 (2).pdf\n",
            "Saving REGISTROS PRESUPUESTALES CONSECUTIVO 2013.pdf to REGISTROS PRESUPUESTALES CONSECUTIVO 2013 (2).pdf\n",
            "Saving REGISTROS PRESUPUESTALES CONSECUTIVO 2014.pdf to REGISTROS PRESUPUESTALES CONSECUTIVO 2014 (2).pdf\n",
            "Saving REGISTROS PRESUPUESTALES CONSECUTIVO 2015.pdf to REGISTROS PRESUPUESTALES CONSECUTIVO 2015 (2).pdf\n",
            "Saving REGISTROS PRESUPUESTALES CONSECUTIVO 2016.pdf to REGISTROS PRESUPUESTALES CONSECUTIVO 2016 (2).pdf\n",
            "Saving REGISTROS PRESUPUESTALES CONSECUTIVO 2017.pdf to REGISTROS PRESUPUESTALES CONSECUTIVO 2017 (2).pdf\n",
            "Saving REGISTROS PRESUPUESTALES CONSECUTIVO 2018.pdf to REGISTROS PRESUPUESTALES CONSECUTIVO 2018 (2).pdf\n",
            "Saving REGISTROS PRESUPUESTALES CONSECUTIVO 2019.pdf to REGISTROS PRESUPUESTALES CONSECUTIVO 2019 (2).pdf\n",
            "Saving REGISTROS PRESUPUESTALES CONSECUTIVO 2020.pdf to REGISTROS PRESUPUESTALES CONSECUTIVO 2020 (2).pdf\n"
          ]
        }
      ]
    },
    {
      "cell_type": "code",
      "source": [
        "import os\n",
        "print(os.listdir())  # ver qué archivos están en la carpeta\n"
      ],
      "metadata": {
        "colab": {
          "base_uri": "https://localhost:8080/"
        },
        "id": "rZTQxyhgb948",
        "outputId": "2e8e3187-443c-47e8-e9b7-0e3cb8099513"
      },
      "execution_count": null,
      "outputs": [
        {
          "output_type": "stream",
          "name": "stdout",
          "text": [
            "['.config', 'REGISTROS PRESUPUESTALES CONSECUTIVO 2018 (2).pdf', 'REGISTROS PRESUPUESTALES CONSECUTIVO 2008.pdf', 'REGISTROS PRESUPUESTALES CONSECUTIVO 2020 (2).pdf', 'REGISTROS PRESUPUESTALES CONSECUTIVO 2007 (2).pdf', 'REGISTROS PRESUPUESTALES CONSECUTIVO 2013.pdf', 'REGISTROS PRESUPUESTALES CONSECUTIVO 2010 (2).pdf', 'REGISTROS PRESUPUESTALES CONSECUTIVO 2017 (2).pdf', 'REGISTROS PRESUPUESTALES CONSECUTIVO 2009 (1).pdf', 'REGISTROS PRESUPUESTALES CONSECUTIVO 2013 (2).pdf', 'REGISTROS PRESUPUESTALES CONSECUTIVO 2012.pdf', 'REGISTROS PRESUPUESTALES CONSECUTIVO 2005.pdf', 'REGISTROS PRESUPUESTALES CONSECUTIVO 2014 (1).pdf', 'REGISTROS PRESUPUESTALES CONSECUTIVO 2020 (1).pdf', 'REGISTROS PRESUPUESTALES CONSECUTIVO 2019.pdf', 'REGISTROS PRESUPUESTALES CONSECUTIVO 2006 (2).pdf', 'REGISTROS PRESUPUESTALES CONSECUTIVO 2015 (2).pdf', 'REGISTROS PRESUPUESTALES CONSECUTIVO 2011 (2).pdf', 'REGISTROS PRESUPUESTALES CONSECUTIVO 2011 (1).pdf', 'REGISTROS PRESUPUESTALES CONSECUTIVO 2017.pdf', 'REGISTROS PRESUPUESTALES CONSECUTIVO 2012 (2).pdf', 'REGISTROS PRESUPUESTALES CONSECUTIVO 2018 (1).pdf', 'REGISTROS PRESUPUESTALES CONSECUTIVO 2008 (1).pdf', 'REGISTROS PRESUPUESTALES CONSECUTIVO 2019 (1).pdf', 'REGISTROS PRESUPUESTALES CONSECUTIVO 2011.pdf', 'REGISTROS PRESUPUESTALES CONSECUTIVO 2006.pdf', 'REGISTROS PRESUPUESTALES CONSECUTIVO 2016.pdf', 'REGISTROS PRESUPUESTALES CONSECUTIVO 2010.pdf', 'REGISTROS PRESUPUESTALES CONSECUTIVO 2012 (1).pdf', 'REGISTROS PRESUPUESTALES CONSECUTIVO 2009.pdf', 'REGISTROS PRESUPUESTALES CONSECUTIVO 2010 (1).pdf', 'REGISTROS PRESUPUESTALES CONSECUTIVO 2007 (1).pdf', 'REGISTROS PRESUPUESTALES CONSECUTIVO 2007.pdf', 'REGISTROS PRESUPUESTALES CONSECUTIVO 2015.pdf', 'REGISTROS PRESUPUESTALES CONSECUTIVO 2017 (1).pdf', 'REGISTROS PRESUPUESTALES CONSECUTIVO 2015 (1).pdf', 'REGISTROS PRESUPUESTALES CONSECUTIVO 2016 (1).pdf', 'REGISTROS PRESUPUESTALES CONSECUTIVO 2014 (2).pdf', 'REGISTROS PRESUPUESTALES CONSECUTIVO 2018.pdf', 'REGISTROS PRESUPUESTALES CONSECUTIVO 2016 (2).pdf', 'REGISTROS PRESUPUESTALES CONSECUTIVO 2009 (2).pdf', 'REGISTROS PRESUPUESTALES CONSECUTIVO 2020.pdf', 'REGISTROS PRESUPUESTALES CONSECUTIVO 2005 (1).pdf', 'REGISTROS PRESUPUESTALES CONSECUTIVO 2013 (1).pdf', 'REGISTROS PRESUPUESTALES CONSECUTIVO 2019 (2).pdf', 'REGISTROS PRESUPUESTALES CONSECUTIVO 2006 (1).pdf', 'REGISTROS PRESUPUESTALES CONSECUTIVO 2005 (2).pdf', 'REGISTROS PRESUPUESTALES CONSECUTIVO 2014.pdf', 'REGISTROS PRESUPUESTALES CONSECUTIVO 2008 (2).pdf', 'sample_data']\n"
          ]
        }
      ]
    },
    {
      "cell_type": "code",
      "source": [
        "import tabula\n",
        "import pandas as pd\n",
        "import os\n",
        "\n",
        "# Carpeta actual\n",
        "archivos = [f for f in os.listdir() if f.endswith(\".pdf\")]\n",
        "\n",
        "for archivo in archivos:\n",
        "    print(f\"\\n⏳ Procesando: {archivo}\")\n",
        "\n",
        "    try:\n",
        "        # Lee todas las tablas del PDF\n",
        "        tablas = tabula.read_pdf(archivo, pages=\"all\", multiple_tables=True)\n",
        "\n",
        "        if len(tablas) == 0:\n",
        "            print(f\"⚠️ No se encontraron tablas en {archivo}\")\n",
        "            continue\n",
        "\n",
        "        # Guardar cada tabla en un Excel\n",
        "        nombre_salida = archivo.replace(\".pdf\", \".xlsx\")\n",
        "        with pd.ExcelWriter(nombre_salida, engine=\"openpyxl\") as writer:\n",
        "            for i, tabla in enumerate(tablas):\n",
        "                tabla.to_excel(writer, sheet_name=f\"Tabla_{i+1}\", index=False)\n",
        "\n",
        "        print(f\"✅ Guardado en: {nombre_salida} ({len(tablas)} tablas)\")\n",
        "\n",
        "    except Exception as e:\n",
        "        print(f\"❌ Error con {archivo}: {e}\")\n"
      ],
      "metadata": {
        "colab": {
          "base_uri": "https://localhost:8080/"
        },
        "id": "34PFtgWpcHq8",
        "outputId": "a039f0ea-edf3-402c-953b-1bb566969826"
      },
      "execution_count": null,
      "outputs": [
        {
          "metadata": {
            "tags": null
          },
          "name": "stderr",
          "output_type": "stream",
          "text": [
            "WARNING:tabula.backend:Failed to import jpype dependencies. Fallback to subprocess.\n",
            "WARNING:tabula.backend:No module named 'jpype'\n"
          ]
        },
        {
          "metadata": {
            "tags": null
          },
          "name": "stdout",
          "output_type": "stream",
          "text": [
            "\n",
            "⏳ Procesando: REGISTROS PRESUPUESTALES CONSECUTIVO 2018 (2).pdf\n"
          ]
        },
        {
          "metadata": {
            "tags": null
          },
          "name": "stderr",
          "output_type": "stream",
          "text": [
            "WARNING:tabula.backend:Got stderr: Aug 29, 2025 8:05:43 PM org.apache.pdfbox.pdmodel.font.FileSystemFontProvider loadDiskCache\n",
            "WARNING: New fonts found, font cache will be re-built\n",
            "Aug 29, 2025 8:05:43 PM org.apache.pdfbox.pdmodel.font.FileSystemFontProvider <init>\n",
            "WARNING: Building on-disk font cache, this may take a while\n",
            "Aug 29, 2025 8:05:43 PM org.apache.pdfbox.pdmodel.font.FileSystemFontProvider <init>\n",
            "WARNING: Finished building on-disk font cache, found 17 fonts\n",
            "Aug 29, 2025 8:05:43 PM org.apache.pdfbox.pdmodel.font.PDType1Font <init>\n",
            "WARNING: Using fallback font LiberationSans for base font Symbol\n",
            "Aug 29, 2025 8:05:43 PM org.apache.pdfbox.pdmodel.font.PDType1Font <init>\n",
            "WARNING: Using fallback font LiberationSans for base font ZapfDingbats\n",
            "\n"
          ]
        },
        {
          "metadata": {
            "tags": null
          },
          "name": "stdout",
          "output_type": "stream",
          "text": [
            "✅ Guardado en: REGISTROS PRESUPUESTALES CONSECUTIVO 2018 (2).xlsx (42 tablas)\n",
            "\n",
            "⏳ Procesando: REGISTROS PRESUPUESTALES CONSECUTIVO 2008.pdf\n"
          ]
        },
        {
          "metadata": {
            "tags": null
          },
          "name": "stderr",
          "output_type": "stream",
          "text": [
            "WARNING:tabula.backend:Got stderr: Aug 29, 2025 8:06:02 PM org.apache.pdfbox.pdmodel.font.PDType1Font <init>\n",
            "WARNING: Using fallback font LiberationSans for base font Symbol\n",
            "Aug 29, 2025 8:06:02 PM org.apache.pdfbox.pdmodel.font.PDType1Font <init>\n",
            "WARNING: Using fallback font LiberationSans for base font ZapfDingbats\n",
            "\n"
          ]
        },
        {
          "metadata": {
            "tags": null
          },
          "name": "stdout",
          "output_type": "stream",
          "text": [
            "✅ Guardado en: REGISTROS PRESUPUESTALES CONSECUTIVO 2008.xlsx (29 tablas)\n",
            "\n",
            "⏳ Procesando: REGISTROS PRESUPUESTALES CONSECUTIVO 2020 (2).pdf\n"
          ]
        },
        {
          "metadata": {
            "tags": null
          },
          "name": "stderr",
          "output_type": "stream",
          "text": [
            "WARNING:tabula.backend:Got stderr: Aug 29, 2025 8:06:17 PM org.apache.pdfbox.pdmodel.font.PDType1Font <init>\n",
            "WARNING: Using fallback font LiberationSans for base font Symbol\n",
            "Aug 29, 2025 8:06:17 PM org.apache.pdfbox.pdmodel.font.PDType1Font <init>\n",
            "WARNING: Using fallback font LiberationSans for base font ZapfDingbats\n",
            "\n"
          ]
        },
        {
          "metadata": {
            "tags": null
          },
          "name": "stdout",
          "output_type": "stream",
          "text": [
            "✅ Guardado en: REGISTROS PRESUPUESTALES CONSECUTIVO 2020 (2).xlsx (49 tablas)\n",
            "\n",
            "⏳ Procesando: REGISTROS PRESUPUESTALES CONSECUTIVO 2007 (2).pdf\n"
          ]
        },
        {
          "metadata": {
            "tags": null
          },
          "name": "stderr",
          "output_type": "stream",
          "text": [
            "WARNING:tabula.backend:Got stderr: Aug 29, 2025 8:06:37 PM org.apache.pdfbox.pdmodel.font.PDType1Font <init>\n",
            "WARNING: Using fallback font LiberationSans for base font Symbol\n",
            "Aug 29, 2025 8:06:37 PM org.apache.pdfbox.pdmodel.font.PDType1Font <init>\n",
            "WARNING: Using fallback font LiberationSans for base font ZapfDingbats\n",
            "\n"
          ]
        },
        {
          "metadata": {
            "tags": null
          },
          "name": "stdout",
          "output_type": "stream",
          "text": [
            "✅ Guardado en: REGISTROS PRESUPUESTALES CONSECUTIVO 2007 (2).xlsx (26 tablas)\n",
            "\n",
            "⏳ Procesando: REGISTROS PRESUPUESTALES CONSECUTIVO 2013.pdf\n"
          ]
        },
        {
          "metadata": {
            "tags": null
          },
          "name": "stderr",
          "output_type": "stream",
          "text": [
            "WARNING:tabula.backend:Got stderr: Aug 29, 2025 8:06:51 PM org.apache.pdfbox.pdmodel.font.PDType1Font <init>\n",
            "WARNING: Using fallback font LiberationSans for base font Symbol\n",
            "Aug 29, 2025 8:06:51 PM org.apache.pdfbox.pdmodel.font.PDType1Font <init>\n",
            "WARNING: Using fallback font LiberationSans for base font ZapfDingbats\n",
            "\n"
          ]
        },
        {
          "metadata": {
            "tags": null
          },
          "name": "stdout",
          "output_type": "stream",
          "text": [
            "✅ Guardado en: REGISTROS PRESUPUESTALES CONSECUTIVO 2013.xlsx (44 tablas)\n",
            "\n",
            "⏳ Procesando: REGISTROS PRESUPUESTALES CONSECUTIVO 2010 (2).pdf\n"
          ]
        },
        {
          "metadata": {
            "tags": null
          },
          "name": "stderr",
          "output_type": "stream",
          "text": [
            "WARNING:tabula.backend:Got stderr: Aug 29, 2025 8:07:10 PM org.apache.pdfbox.pdmodel.font.PDType1Font <init>\n",
            "WARNING: Using fallback font LiberationSans for base font Symbol\n",
            "Aug 29, 2025 8:07:10 PM org.apache.pdfbox.pdmodel.font.PDType1Font <init>\n",
            "WARNING: Using fallback font LiberationSans for base font ZapfDingbats\n",
            "\n"
          ]
        },
        {
          "metadata": {
            "tags": null
          },
          "name": "stdout",
          "output_type": "stream",
          "text": [
            "✅ Guardado en: REGISTROS PRESUPUESTALES CONSECUTIVO 2010 (2).xlsx (45 tablas)\n",
            "\n",
            "⏳ Procesando: REGISTROS PRESUPUESTALES CONSECUTIVO 2017 (2).pdf\n"
          ]
        },
        {
          "metadata": {
            "tags": null
          },
          "name": "stderr",
          "output_type": "stream",
          "text": [
            "WARNING:tabula.backend:Got stderr: Aug 29, 2025 8:07:29 PM org.apache.pdfbox.pdmodel.font.PDType1Font <init>\n",
            "WARNING: Using fallback font LiberationSans for base font Symbol\n",
            "Aug 29, 2025 8:07:29 PM org.apache.pdfbox.pdmodel.font.PDType1Font <init>\n",
            "WARNING: Using fallback font LiberationSans for base font ZapfDingbats\n",
            "\n"
          ]
        },
        {
          "metadata": {
            "tags": null
          },
          "name": "stdout",
          "output_type": "stream",
          "text": [
            "✅ Guardado en: REGISTROS PRESUPUESTALES CONSECUTIVO 2017 (2).xlsx (40 tablas)\n",
            "\n",
            "⏳ Procesando: REGISTROS PRESUPUESTALES CONSECUTIVO 2009 (1).pdf\n"
          ]
        },
        {
          "metadata": {
            "tags": null
          },
          "name": "stderr",
          "output_type": "stream",
          "text": [
            "WARNING:tabula.backend:Got stderr: Aug 29, 2025 8:07:47 PM org.apache.pdfbox.pdmodel.font.PDType1Font <init>\n",
            "WARNING: Using fallback font LiberationSans for base font Symbol\n",
            "Aug 29, 2025 8:07:47 PM org.apache.pdfbox.pdmodel.font.PDType1Font <init>\n",
            "WARNING: Using fallback font LiberationSans for base font ZapfDingbats\n",
            "\n"
          ]
        },
        {
          "metadata": {
            "tags": null
          },
          "name": "stdout",
          "output_type": "stream",
          "text": [
            "✅ Guardado en: REGISTROS PRESUPUESTALES CONSECUTIVO 2009 (1).xlsx (41 tablas)\n",
            "\n",
            "⏳ Procesando: REGISTROS PRESUPUESTALES CONSECUTIVO 2013 (2).pdf\n"
          ]
        },
        {
          "metadata": {
            "tags": null
          },
          "name": "stderr",
          "output_type": "stream",
          "text": [
            "WARNING:tabula.backend:Got stderr: Aug 29, 2025 8:08:06 PM org.apache.pdfbox.pdmodel.font.PDType1Font <init>\n",
            "WARNING: Using fallback font LiberationSans for base font Symbol\n",
            "Aug 29, 2025 8:08:06 PM org.apache.pdfbox.pdmodel.font.PDType1Font <init>\n",
            "WARNING: Using fallback font LiberationSans for base font ZapfDingbats\n",
            "\n"
          ]
        },
        {
          "metadata": {
            "tags": null
          },
          "name": "stdout",
          "output_type": "stream",
          "text": [
            "✅ Guardado en: REGISTROS PRESUPUESTALES CONSECUTIVO 2013 (2).xlsx (44 tablas)\n",
            "\n",
            "⏳ Procesando: REGISTROS PRESUPUESTALES CONSECUTIVO 2012.pdf\n"
          ]
        },
        {
          "metadata": {
            "tags": null
          },
          "name": "stderr",
          "output_type": "stream",
          "text": [
            "WARNING:tabula.backend:Got stderr: Aug 29, 2025 8:08:26 PM org.apache.pdfbox.pdmodel.font.PDType1Font <init>\n",
            "WARNING: Using fallback font LiberationSans for base font Symbol\n",
            "Aug 29, 2025 8:08:26 PM org.apache.pdfbox.pdmodel.font.PDType1Font <init>\n",
            "WARNING: Using fallback font LiberationSans for base font ZapfDingbats\n",
            "\n"
          ]
        },
        {
          "metadata": {
            "tags": null
          },
          "name": "stdout",
          "output_type": "stream",
          "text": [
            "✅ Guardado en: REGISTROS PRESUPUESTALES CONSECUTIVO 2012.xlsx (43 tablas)\n",
            "\n",
            "⏳ Procesando: REGISTROS PRESUPUESTALES CONSECUTIVO 2005.pdf\n"
          ]
        },
        {
          "metadata": {
            "tags": null
          },
          "name": "stderr",
          "output_type": "stream",
          "text": [
            "WARNING:tabula.backend:Got stderr: Aug 29, 2025 8:08:44 PM org.apache.pdfbox.pdmodel.font.PDType1Font <init>\n",
            "WARNING: Using fallback font LiberationSans for base font Symbol\n",
            "Aug 29, 2025 8:08:44 PM org.apache.pdfbox.pdmodel.font.PDType1Font <init>\n",
            "WARNING: Using fallback font LiberationSans for base font ZapfDingbats\n",
            "\n"
          ]
        },
        {
          "metadata": {
            "tags": null
          },
          "name": "stdout",
          "output_type": "stream",
          "text": [
            "✅ Guardado en: REGISTROS PRESUPUESTALES CONSECUTIVO 2005.xlsx (21 tablas)\n",
            "\n",
            "⏳ Procesando: REGISTROS PRESUPUESTALES CONSECUTIVO 2014 (1).pdf\n"
          ]
        },
        {
          "metadata": {
            "tags": null
          },
          "name": "stderr",
          "output_type": "stream",
          "text": [
            "WARNING:tabula.backend:Got stderr: Aug 29, 2025 8:08:57 PM org.apache.pdfbox.pdmodel.font.PDType1Font <init>\n",
            "WARNING: Using fallback font LiberationSans for base font Symbol\n",
            "Aug 29, 2025 8:08:57 PM org.apache.pdfbox.pdmodel.font.PDType1Font <init>\n",
            "WARNING: Using fallback font LiberationSans for base font ZapfDingbats\n",
            "\n"
          ]
        },
        {
          "metadata": {
            "tags": null
          },
          "name": "stdout",
          "output_type": "stream",
          "text": [
            "✅ Guardado en: REGISTROS PRESUPUESTALES CONSECUTIVO 2014 (1).xlsx (42 tablas)\n",
            "\n",
            "⏳ Procesando: REGISTROS PRESUPUESTALES CONSECUTIVO 2020 (1).pdf\n"
          ]
        },
        {
          "metadata": {
            "tags": null
          },
          "name": "stderr",
          "output_type": "stream",
          "text": [
            "WARNING:tabula.backend:Got stderr: Aug 29, 2025 8:09:15 PM org.apache.pdfbox.pdmodel.font.PDType1Font <init>\n",
            "WARNING: Using fallback font LiberationSans for base font Symbol\n",
            "Aug 29, 2025 8:09:15 PM org.apache.pdfbox.pdmodel.font.PDType1Font <init>\n",
            "WARNING: Using fallback font LiberationSans for base font ZapfDingbats\n",
            "\n"
          ]
        },
        {
          "metadata": {
            "tags": null
          },
          "name": "stdout",
          "output_type": "stream",
          "text": [
            "✅ Guardado en: REGISTROS PRESUPUESTALES CONSECUTIVO 2020 (1).xlsx (49 tablas)\n",
            "\n",
            "⏳ Procesando: REGISTROS PRESUPUESTALES CONSECUTIVO 2019.pdf\n"
          ]
        },
        {
          "metadata": {
            "tags": null
          },
          "name": "stderr",
          "output_type": "stream",
          "text": [
            "WARNING:tabula.backend:Got stderr: Aug 29, 2025 8:09:35 PM org.apache.pdfbox.pdmodel.font.PDType1Font <init>\n",
            "WARNING: Using fallback font LiberationSans for base font Symbol\n",
            "Aug 29, 2025 8:09:35 PM org.apache.pdfbox.pdmodel.font.PDType1Font <init>\n",
            "WARNING: Using fallback font LiberationSans for base font ZapfDingbats\n",
            "\n"
          ]
        },
        {
          "metadata": {
            "tags": null
          },
          "name": "stdout",
          "output_type": "stream",
          "text": [
            "✅ Guardado en: REGISTROS PRESUPUESTALES CONSECUTIVO 2019.xlsx (50 tablas)\n",
            "\n",
            "⏳ Procesando: REGISTROS PRESUPUESTALES CONSECUTIVO 2006 (2).pdf\n"
          ]
        },
        {
          "metadata": {
            "tags": null
          },
          "name": "stderr",
          "output_type": "stream",
          "text": [
            "WARNING:tabula.backend:Got stderr: Aug 29, 2025 8:09:57 PM org.apache.pdfbox.pdmodel.font.PDType1Font <init>\n",
            "WARNING: Using fallback font LiberationSans for base font Symbol\n",
            "Aug 29, 2025 8:09:57 PM org.apache.pdfbox.pdmodel.font.PDType1Font <init>\n",
            "WARNING: Using fallback font LiberationSans for base font ZapfDingbats\n",
            "\n"
          ]
        },
        {
          "metadata": {
            "tags": null
          },
          "name": "stdout",
          "output_type": "stream",
          "text": [
            "✅ Guardado en: REGISTROS PRESUPUESTALES CONSECUTIVO 2006 (2).xlsx (24 tablas)\n",
            "\n",
            "⏳ Procesando: REGISTROS PRESUPUESTALES CONSECUTIVO 2015 (2).pdf\n"
          ]
        },
        {
          "metadata": {
            "tags": null
          },
          "name": "stderr",
          "output_type": "stream",
          "text": [
            "WARNING:tabula.backend:Got stderr: Aug 29, 2025 8:10:10 PM org.apache.pdfbox.pdmodel.font.PDType1Font <init>\n",
            "WARNING: Using fallback font LiberationSans for base font Symbol\n",
            "Aug 29, 2025 8:10:10 PM org.apache.pdfbox.pdmodel.font.PDType1Font <init>\n",
            "WARNING: Using fallback font LiberationSans for base font ZapfDingbats\n",
            "\n"
          ]
        },
        {
          "metadata": {
            "tags": null
          },
          "name": "stdout",
          "output_type": "stream",
          "text": [
            "✅ Guardado en: REGISTROS PRESUPUESTALES CONSECUTIVO 2015 (2).xlsx (45 tablas)\n",
            "\n",
            "⏳ Procesando: REGISTROS PRESUPUESTALES CONSECUTIVO 2011 (2).pdf\n"
          ]
        },
        {
          "metadata": {
            "tags": null
          },
          "name": "stderr",
          "output_type": "stream",
          "text": [
            "WARNING:tabula.backend:Got stderr: Aug 29, 2025 8:10:29 PM org.apache.pdfbox.pdmodel.font.PDType1Font <init>\n",
            "WARNING: Using fallback font LiberationSans for base font Symbol\n",
            "Aug 29, 2025 8:10:29 PM org.apache.pdfbox.pdmodel.font.PDType1Font <init>\n",
            "WARNING: Using fallback font LiberationSans for base font ZapfDingbats\n",
            "\n"
          ]
        },
        {
          "metadata": {
            "tags": null
          },
          "name": "stdout",
          "output_type": "stream",
          "text": [
            "✅ Guardado en: REGISTROS PRESUPUESTALES CONSECUTIVO 2011 (2).xlsx (47 tablas)\n",
            "\n",
            "⏳ Procesando: REGISTROS PRESUPUESTALES CONSECUTIVO 2011 (1).pdf\n"
          ]
        },
        {
          "metadata": {
            "tags": null
          },
          "name": "stderr",
          "output_type": "stream",
          "text": [
            "WARNING:tabula.backend:Got stderr: Aug 29, 2025 8:10:49 PM org.apache.pdfbox.pdmodel.font.PDType1Font <init>\n",
            "WARNING: Using fallback font LiberationSans for base font Symbol\n",
            "Aug 29, 2025 8:10:49 PM org.apache.pdfbox.pdmodel.font.PDType1Font <init>\n",
            "WARNING: Using fallback font LiberationSans for base font ZapfDingbats\n",
            "\n"
          ]
        },
        {
          "metadata": {
            "tags": null
          },
          "name": "stdout",
          "output_type": "stream",
          "text": [
            "✅ Guardado en: REGISTROS PRESUPUESTALES CONSECUTIVO 2011 (1).xlsx (47 tablas)\n",
            "\n",
            "⏳ Procesando: REGISTROS PRESUPUESTALES CONSECUTIVO 2017.pdf\n"
          ]
        },
        {
          "metadata": {
            "tags": null
          },
          "name": "stderr",
          "output_type": "stream",
          "text": [
            "WARNING:tabula.backend:Got stderr: Aug 29, 2025 8:11:09 PM org.apache.pdfbox.pdmodel.font.PDType1Font <init>\n",
            "WARNING: Using fallback font LiberationSans for base font Symbol\n",
            "Aug 29, 2025 8:11:09 PM org.apache.pdfbox.pdmodel.font.PDType1Font <init>\n",
            "WARNING: Using fallback font LiberationSans for base font ZapfDingbats\n",
            "\n"
          ]
        },
        {
          "metadata": {
            "tags": null
          },
          "name": "stdout",
          "output_type": "stream",
          "text": [
            "✅ Guardado en: REGISTROS PRESUPUESTALES CONSECUTIVO 2017.xlsx (40 tablas)\n",
            "\n",
            "⏳ Procesando: REGISTROS PRESUPUESTALES CONSECUTIVO 2012 (2).pdf\n"
          ]
        },
        {
          "metadata": {
            "tags": null
          },
          "name": "stderr",
          "output_type": "stream",
          "text": [
            "WARNING:tabula.backend:Got stderr: Aug 29, 2025 8:11:27 PM org.apache.pdfbox.pdmodel.font.PDType1Font <init>\n",
            "WARNING: Using fallback font LiberationSans for base font Symbol\n",
            "Aug 29, 2025 8:11:27 PM org.apache.pdfbox.pdmodel.font.PDType1Font <init>\n",
            "WARNING: Using fallback font LiberationSans for base font ZapfDingbats\n",
            "\n"
          ]
        },
        {
          "metadata": {
            "tags": null
          },
          "name": "stdout",
          "output_type": "stream",
          "text": [
            "✅ Guardado en: REGISTROS PRESUPUESTALES CONSECUTIVO 2012 (2).xlsx (43 tablas)\n",
            "\n",
            "⏳ Procesando: REGISTROS PRESUPUESTALES CONSECUTIVO 2018 (1).pdf\n"
          ]
        },
        {
          "metadata": {
            "tags": null
          },
          "name": "stderr",
          "output_type": "stream",
          "text": [
            "WARNING:tabula.backend:Got stderr: Aug 29, 2025 8:11:45 PM org.apache.pdfbox.pdmodel.font.PDType1Font <init>\n",
            "WARNING: Using fallback font LiberationSans for base font Symbol\n",
            "Aug 29, 2025 8:11:45 PM org.apache.pdfbox.pdmodel.font.PDType1Font <init>\n",
            "WARNING: Using fallback font LiberationSans for base font ZapfDingbats\n",
            "\n"
          ]
        },
        {
          "metadata": {
            "tags": null
          },
          "name": "stdout",
          "output_type": "stream",
          "text": [
            "✅ Guardado en: REGISTROS PRESUPUESTALES CONSECUTIVO 2018 (1).xlsx (42 tablas)\n",
            "\n",
            "⏳ Procesando: REGISTROS PRESUPUESTALES CONSECUTIVO 2008 (1).pdf\n"
          ]
        },
        {
          "metadata": {
            "tags": null
          },
          "name": "stderr",
          "output_type": "stream",
          "text": [
            "WARNING:tabula.backend:Got stderr: Aug 29, 2025 8:12:02 PM org.apache.pdfbox.pdmodel.font.PDType1Font <init>\n",
            "WARNING: Using fallback font LiberationSans for base font Symbol\n",
            "Aug 29, 2025 8:12:02 PM org.apache.pdfbox.pdmodel.font.PDType1Font <init>\n",
            "WARNING: Using fallback font LiberationSans for base font ZapfDingbats\n",
            "\n"
          ]
        },
        {
          "metadata": {
            "tags": null
          },
          "name": "stdout",
          "output_type": "stream",
          "text": [
            "✅ Guardado en: REGISTROS PRESUPUESTALES CONSECUTIVO 2008 (1).xlsx (29 tablas)\n",
            "\n",
            "⏳ Procesando: REGISTROS PRESUPUESTALES CONSECUTIVO 2019 (1).pdf\n"
          ]
        },
        {
          "metadata": {
            "tags": null
          },
          "name": "stderr",
          "output_type": "stream",
          "text": [
            "WARNING:tabula.backend:Got stderr: Aug 29, 2025 8:12:17 PM org.apache.pdfbox.pdmodel.font.PDType1Font <init>\n",
            "WARNING: Using fallback font LiberationSans for base font Symbol\n",
            "Aug 29, 2025 8:12:18 PM org.apache.pdfbox.pdmodel.font.PDType1Font <init>\n",
            "WARNING: Using fallback font LiberationSans for base font ZapfDingbats\n",
            "\n"
          ]
        },
        {
          "metadata": {
            "tags": null
          },
          "name": "stdout",
          "output_type": "stream",
          "text": [
            "✅ Guardado en: REGISTROS PRESUPUESTALES CONSECUTIVO 2019 (1).xlsx (50 tablas)\n",
            "\n",
            "⏳ Procesando: REGISTROS PRESUPUESTALES CONSECUTIVO 2011.pdf\n"
          ]
        },
        {
          "metadata": {
            "tags": null
          },
          "name": "stderr",
          "output_type": "stream",
          "text": [
            "WARNING:tabula.backend:Got stderr: Aug 29, 2025 8:12:38 PM org.apache.pdfbox.pdmodel.font.PDType1Font <init>\n",
            "WARNING: Using fallback font LiberationSans for base font Symbol\n",
            "Aug 29, 2025 8:12:38 PM org.apache.pdfbox.pdmodel.font.PDType1Font <init>\n",
            "WARNING: Using fallback font LiberationSans for base font ZapfDingbats\n",
            "\n"
          ]
        },
        {
          "metadata": {
            "tags": null
          },
          "name": "stdout",
          "output_type": "stream",
          "text": [
            "✅ Guardado en: REGISTROS PRESUPUESTALES CONSECUTIVO 2011.xlsx (47 tablas)\n",
            "\n",
            "⏳ Procesando: REGISTROS PRESUPUESTALES CONSECUTIVO 2006.pdf\n"
          ]
        },
        {
          "metadata": {
            "tags": null
          },
          "name": "stderr",
          "output_type": "stream",
          "text": [
            "WARNING:tabula.backend:Got stderr: Aug 29, 2025 8:12:58 PM org.apache.pdfbox.pdmodel.font.PDType1Font <init>\n",
            "WARNING: Using fallback font LiberationSans for base font Symbol\n",
            "Aug 29, 2025 8:12:58 PM org.apache.pdfbox.pdmodel.font.PDType1Font <init>\n",
            "WARNING: Using fallback font LiberationSans for base font ZapfDingbats\n",
            "\n"
          ]
        },
        {
          "metadata": {
            "tags": null
          },
          "name": "stdout",
          "output_type": "stream",
          "text": [
            "✅ Guardado en: REGISTROS PRESUPUESTALES CONSECUTIVO 2006.xlsx (24 tablas)\n",
            "\n",
            "⏳ Procesando: REGISTROS PRESUPUESTALES CONSECUTIVO 2016.pdf\n"
          ]
        },
        {
          "metadata": {
            "tags": null
          },
          "name": "stderr",
          "output_type": "stream",
          "text": [
            "WARNING:tabula.backend:Got stderr: Aug 29, 2025 8:13:11 PM org.apache.pdfbox.pdmodel.font.PDType1Font <init>\n",
            "WARNING: Using fallback font LiberationSans for base font Symbol\n",
            "Aug 29, 2025 8:13:11 PM org.apache.pdfbox.pdmodel.font.PDType1Font <init>\n",
            "WARNING: Using fallback font LiberationSans for base font ZapfDingbats\n",
            "\n"
          ]
        },
        {
          "metadata": {
            "tags": null
          },
          "name": "stdout",
          "output_type": "stream",
          "text": [
            "✅ Guardado en: REGISTROS PRESUPUESTALES CONSECUTIVO 2016.xlsx (43 tablas)\n",
            "\n",
            "⏳ Procesando: REGISTROS PRESUPUESTALES CONSECUTIVO 2010.pdf\n"
          ]
        },
        {
          "metadata": {
            "tags": null
          },
          "name": "stderr",
          "output_type": "stream",
          "text": [
            "WARNING:tabula.backend:Got stderr: Aug 29, 2025 8:13:29 PM org.apache.pdfbox.pdmodel.font.PDType1Font <init>\n",
            "WARNING: Using fallback font LiberationSans for base font Symbol\n",
            "Aug 29, 2025 8:13:29 PM org.apache.pdfbox.pdmodel.font.PDType1Font <init>\n",
            "WARNING: Using fallback font LiberationSans for base font ZapfDingbats\n",
            "\n"
          ]
        },
        {
          "metadata": {
            "tags": null
          },
          "name": "stdout",
          "output_type": "stream",
          "text": [
            "✅ Guardado en: REGISTROS PRESUPUESTALES CONSECUTIVO 2010.xlsx (45 tablas)\n",
            "\n",
            "⏳ Procesando: REGISTROS PRESUPUESTALES CONSECUTIVO 2012 (1).pdf\n"
          ]
        },
        {
          "metadata": {
            "tags": null
          },
          "name": "stderr",
          "output_type": "stream",
          "text": [
            "WARNING:tabula.backend:Got stderr: Aug 29, 2025 8:13:48 PM org.apache.pdfbox.pdmodel.font.PDType1Font <init>\n",
            "WARNING: Using fallback font LiberationSans for base font Symbol\n",
            "Aug 29, 2025 8:13:48 PM org.apache.pdfbox.pdmodel.font.PDType1Font <init>\n",
            "WARNING: Using fallback font LiberationSans for base font ZapfDingbats\n",
            "\n"
          ]
        },
        {
          "metadata": {
            "tags": null
          },
          "name": "stdout",
          "output_type": "stream",
          "text": [
            "✅ Guardado en: REGISTROS PRESUPUESTALES CONSECUTIVO 2012 (1).xlsx (43 tablas)\n",
            "\n",
            "⏳ Procesando: REGISTROS PRESUPUESTALES CONSECUTIVO 2009.pdf\n"
          ]
        },
        {
          "metadata": {
            "tags": null
          },
          "name": "stderr",
          "output_type": "stream",
          "text": [
            "WARNING:tabula.backend:Got stderr: Aug 29, 2025 8:14:07 PM org.apache.pdfbox.pdmodel.font.PDType1Font <init>\n",
            "WARNING: Using fallback font LiberationSans for base font Symbol\n",
            "Aug 29, 2025 8:14:07 PM org.apache.pdfbox.pdmodel.font.PDType1Font <init>\n",
            "WARNING: Using fallback font LiberationSans for base font ZapfDingbats\n",
            "\n"
          ]
        },
        {
          "metadata": {
            "tags": null
          },
          "name": "stdout",
          "output_type": "stream",
          "text": [
            "✅ Guardado en: REGISTROS PRESUPUESTALES CONSECUTIVO 2009.xlsx (41 tablas)\n",
            "\n",
            "⏳ Procesando: REGISTROS PRESUPUESTALES CONSECUTIVO 2010 (1).pdf\n"
          ]
        },
        {
          "metadata": {
            "tags": null
          },
          "name": "stderr",
          "output_type": "stream",
          "text": [
            "WARNING:tabula.backend:Got stderr: Aug 29, 2025 8:14:26 PM org.apache.pdfbox.pdmodel.font.PDType1Font <init>\n",
            "WARNING: Using fallback font LiberationSans for base font Symbol\n",
            "Aug 29, 2025 8:14:26 PM org.apache.pdfbox.pdmodel.font.PDType1Font <init>\n",
            "WARNING: Using fallback font LiberationSans for base font ZapfDingbats\n",
            "\n"
          ]
        },
        {
          "metadata": {
            "tags": null
          },
          "name": "stdout",
          "output_type": "stream",
          "text": [
            "✅ Guardado en: REGISTROS PRESUPUESTALES CONSECUTIVO 2010 (1).xlsx (45 tablas)\n",
            "\n",
            "⏳ Procesando: REGISTROS PRESUPUESTALES CONSECUTIVO 2007 (1).pdf\n"
          ]
        },
        {
          "metadata": {
            "tags": null
          },
          "name": "stderr",
          "output_type": "stream",
          "text": [
            "WARNING:tabula.backend:Got stderr: Aug 29, 2025 8:14:46 PM org.apache.pdfbox.pdmodel.font.PDType1Font <init>\n",
            "WARNING: Using fallback font LiberationSans for base font Symbol\n",
            "Aug 29, 2025 8:14:46 PM org.apache.pdfbox.pdmodel.font.PDType1Font <init>\n",
            "WARNING: Using fallback font LiberationSans for base font ZapfDingbats\n",
            "\n"
          ]
        },
        {
          "metadata": {
            "tags": null
          },
          "name": "stdout",
          "output_type": "stream",
          "text": [
            "✅ Guardado en: REGISTROS PRESUPUESTALES CONSECUTIVO 2007 (1).xlsx (26 tablas)\n",
            "\n",
            "⏳ Procesando: REGISTROS PRESUPUESTALES CONSECUTIVO 2007.pdf\n"
          ]
        },
        {
          "metadata": {
            "tags": null
          },
          "name": "stderr",
          "output_type": "stream",
          "text": [
            "WARNING:tabula.backend:Got stderr: Aug 29, 2025 8:15:00 PM org.apache.pdfbox.pdmodel.font.PDType1Font <init>\n",
            "WARNING: Using fallback font LiberationSans for base font Symbol\n",
            "Aug 29, 2025 8:15:00 PM org.apache.pdfbox.pdmodel.font.PDType1Font <init>\n",
            "WARNING: Using fallback font LiberationSans for base font ZapfDingbats\n",
            "\n"
          ]
        },
        {
          "metadata": {
            "tags": null
          },
          "name": "stdout",
          "output_type": "stream",
          "text": [
            "✅ Guardado en: REGISTROS PRESUPUESTALES CONSECUTIVO 2007.xlsx (26 tablas)\n",
            "\n",
            "⏳ Procesando: REGISTROS PRESUPUESTALES CONSECUTIVO 2015.pdf\n"
          ]
        },
        {
          "metadata": {
            "tags": null
          },
          "name": "stderr",
          "output_type": "stream",
          "text": [
            "WARNING:tabula.backend:Got stderr: Aug 29, 2025 8:15:14 PM org.apache.pdfbox.pdmodel.font.PDType1Font <init>\n",
            "WARNING: Using fallback font LiberationSans for base font Symbol\n",
            "Aug 29, 2025 8:15:14 PM org.apache.pdfbox.pdmodel.font.PDType1Font <init>\n",
            "WARNING: Using fallback font LiberationSans for base font ZapfDingbats\n",
            "\n"
          ]
        },
        {
          "metadata": {
            "tags": null
          },
          "name": "stdout",
          "output_type": "stream",
          "text": [
            "✅ Guardado en: REGISTROS PRESUPUESTALES CONSECUTIVO 2015.xlsx (45 tablas)\n",
            "\n",
            "⏳ Procesando: REGISTROS PRESUPUESTALES CONSECUTIVO 2017 (1).pdf\n"
          ]
        },
        {
          "metadata": {
            "tags": null
          },
          "name": "stderr",
          "output_type": "stream",
          "text": [
            "WARNING:tabula.backend:Got stderr: Aug 29, 2025 8:15:32 PM org.apache.pdfbox.pdmodel.font.PDType1Font <init>\n",
            "WARNING: Using fallback font LiberationSans for base font Symbol\n",
            "Aug 29, 2025 8:15:32 PM org.apache.pdfbox.pdmodel.font.PDType1Font <init>\n",
            "WARNING: Using fallback font LiberationSans for base font ZapfDingbats\n",
            "\n"
          ]
        },
        {
          "metadata": {
            "tags": null
          },
          "name": "stdout",
          "output_type": "stream",
          "text": [
            "✅ Guardado en: REGISTROS PRESUPUESTALES CONSECUTIVO 2017 (1).xlsx (40 tablas)\n",
            "\n",
            "⏳ Procesando: REGISTROS PRESUPUESTALES CONSECUTIVO 2015 (1).pdf\n"
          ]
        },
        {
          "metadata": {
            "tags": null
          },
          "name": "stderr",
          "output_type": "stream",
          "text": [
            "WARNING:tabula.backend:Got stderr: Aug 29, 2025 8:15:51 PM org.apache.pdfbox.pdmodel.font.PDType1Font <init>\n",
            "WARNING: Using fallback font LiberationSans for base font Symbol\n",
            "Aug 29, 2025 8:15:51 PM org.apache.pdfbox.pdmodel.font.PDType1Font <init>\n",
            "WARNING: Using fallback font LiberationSans for base font ZapfDingbats\n",
            "\n"
          ]
        },
        {
          "metadata": {
            "tags": null
          },
          "name": "stdout",
          "output_type": "stream",
          "text": [
            "✅ Guardado en: REGISTROS PRESUPUESTALES CONSECUTIVO 2015 (1).xlsx (45 tablas)\n",
            "\n",
            "⏳ Procesando: REGISTROS PRESUPUESTALES CONSECUTIVO 2016 (1).pdf\n"
          ]
        },
        {
          "metadata": {
            "tags": null
          },
          "name": "stderr",
          "output_type": "stream",
          "text": [
            "WARNING:tabula.backend:Got stderr: Aug 29, 2025 8:16:09 PM org.apache.pdfbox.pdmodel.font.PDType1Font <init>\n",
            "WARNING: Using fallback font LiberationSans for base font Symbol\n",
            "Aug 29, 2025 8:16:09 PM org.apache.pdfbox.pdmodel.font.PDType1Font <init>\n",
            "WARNING: Using fallback font LiberationSans for base font ZapfDingbats\n",
            "\n"
          ]
        },
        {
          "metadata": {
            "tags": null
          },
          "name": "stdout",
          "output_type": "stream",
          "text": [
            "✅ Guardado en: REGISTROS PRESUPUESTALES CONSECUTIVO 2016 (1).xlsx (43 tablas)\n",
            "\n",
            "⏳ Procesando: REGISTROS PRESUPUESTALES CONSECUTIVO 2014 (2).pdf\n"
          ]
        },
        {
          "metadata": {
            "tags": null
          },
          "name": "stderr",
          "output_type": "stream",
          "text": [
            "WARNING:tabula.backend:Got stderr: Aug 29, 2025 8:16:28 PM org.apache.pdfbox.pdmodel.font.PDType1Font <init>\n",
            "WARNING: Using fallback font LiberationSans for base font Symbol\n",
            "Aug 29, 2025 8:16:28 PM org.apache.pdfbox.pdmodel.font.PDType1Font <init>\n",
            "WARNING: Using fallback font LiberationSans for base font ZapfDingbats\n",
            "\n"
          ]
        },
        {
          "metadata": {
            "tags": null
          },
          "name": "stdout",
          "output_type": "stream",
          "text": [
            "✅ Guardado en: REGISTROS PRESUPUESTALES CONSECUTIVO 2014 (2).xlsx (42 tablas)\n",
            "\n",
            "⏳ Procesando: REGISTROS PRESUPUESTALES CONSECUTIVO 2018.pdf\n"
          ]
        },
        {
          "metadata": {
            "tags": null
          },
          "name": "stderr",
          "output_type": "stream",
          "text": [
            "WARNING:tabula.backend:Got stderr: Aug 29, 2025 8:16:46 PM org.apache.pdfbox.pdmodel.font.PDType1Font <init>\n",
            "WARNING: Using fallback font LiberationSans for base font Symbol\n",
            "Aug 29, 2025 8:16:46 PM org.apache.pdfbox.pdmodel.font.PDType1Font <init>\n",
            "WARNING: Using fallback font LiberationSans for base font ZapfDingbats\n",
            "\n"
          ]
        },
        {
          "metadata": {
            "tags": null
          },
          "name": "stdout",
          "output_type": "stream",
          "text": [
            "✅ Guardado en: REGISTROS PRESUPUESTALES CONSECUTIVO 2018.xlsx (42 tablas)\n",
            "\n",
            "⏳ Procesando: REGISTROS PRESUPUESTALES CONSECUTIVO 2016 (2).pdf\n"
          ]
        },
        {
          "metadata": {
            "tags": null
          },
          "name": "stderr",
          "output_type": "stream",
          "text": [
            "WARNING:tabula.backend:Got stderr: Aug 29, 2025 8:17:04 PM org.apache.pdfbox.pdmodel.font.PDType1Font <init>\n",
            "WARNING: Using fallback font LiberationSans for base font Symbol\n",
            "Aug 29, 2025 8:17:04 PM org.apache.pdfbox.pdmodel.font.PDType1Font <init>\n",
            "WARNING: Using fallback font LiberationSans for base font ZapfDingbats\n",
            "\n"
          ]
        },
        {
          "metadata": {
            "tags": null
          },
          "name": "stdout",
          "output_type": "stream",
          "text": [
            "✅ Guardado en: REGISTROS PRESUPUESTALES CONSECUTIVO 2016 (2).xlsx (43 tablas)\n",
            "\n",
            "⏳ Procesando: REGISTROS PRESUPUESTALES CONSECUTIVO 2009 (2).pdf\n"
          ]
        },
        {
          "metadata": {
            "tags": null
          },
          "name": "stderr",
          "output_type": "stream",
          "text": [
            "WARNING:tabula.backend:Got stderr: Aug 29, 2025 8:17:24 PM org.apache.pdfbox.pdmodel.font.PDType1Font <init>\n",
            "WARNING: Using fallback font LiberationSans for base font Symbol\n",
            "Aug 29, 2025 8:17:24 PM org.apache.pdfbox.pdmodel.font.PDType1Font <init>\n",
            "WARNING: Using fallback font LiberationSans for base font ZapfDingbats\n",
            "\n"
          ]
        },
        {
          "metadata": {
            "tags": null
          },
          "name": "stdout",
          "output_type": "stream",
          "text": [
            "✅ Guardado en: REGISTROS PRESUPUESTALES CONSECUTIVO 2009 (2).xlsx (41 tablas)\n",
            "\n",
            "⏳ Procesando: REGISTROS PRESUPUESTALES CONSECUTIVO 2020.pdf\n"
          ]
        },
        {
          "metadata": {
            "tags": null
          },
          "name": "stderr",
          "output_type": "stream",
          "text": [
            "WARNING:tabula.backend:Got stderr: Aug 29, 2025 8:17:42 PM org.apache.pdfbox.pdmodel.font.PDType1Font <init>\n",
            "WARNING: Using fallback font LiberationSans for base font Symbol\n",
            "Aug 29, 2025 8:17:42 PM org.apache.pdfbox.pdmodel.font.PDType1Font <init>\n",
            "WARNING: Using fallback font LiberationSans for base font ZapfDingbats\n",
            "\n"
          ]
        },
        {
          "metadata": {
            "tags": null
          },
          "name": "stdout",
          "output_type": "stream",
          "text": [
            "✅ Guardado en: REGISTROS PRESUPUESTALES CONSECUTIVO 2020.xlsx (49 tablas)\n",
            "\n",
            "⏳ Procesando: REGISTROS PRESUPUESTALES CONSECUTIVO 2005 (1).pdf\n"
          ]
        },
        {
          "metadata": {
            "tags": null
          },
          "name": "stderr",
          "output_type": "stream",
          "text": [
            "WARNING:tabula.backend:Got stderr: Aug 29, 2025 8:18:02 PM org.apache.pdfbox.pdmodel.font.PDType1Font <init>\n",
            "WARNING: Using fallback font LiberationSans for base font Symbol\n",
            "Aug 29, 2025 8:18:02 PM org.apache.pdfbox.pdmodel.font.PDType1Font <init>\n",
            "WARNING: Using fallback font LiberationSans for base font ZapfDingbats\n",
            "\n"
          ]
        },
        {
          "metadata": {
            "tags": null
          },
          "name": "stdout",
          "output_type": "stream",
          "text": [
            "✅ Guardado en: REGISTROS PRESUPUESTALES CONSECUTIVO 2005 (1).xlsx (21 tablas)\n",
            "\n",
            "⏳ Procesando: REGISTROS PRESUPUESTALES CONSECUTIVO 2013 (1).pdf\n"
          ]
        },
        {
          "metadata": {
            "tags": null
          },
          "name": "stderr",
          "output_type": "stream",
          "text": [
            "WARNING:tabula.backend:Got stderr: Aug 29, 2025 8:18:14 PM org.apache.pdfbox.pdmodel.font.PDType1Font <init>\n",
            "WARNING: Using fallback font LiberationSans for base font Symbol\n",
            "Aug 29, 2025 8:18:14 PM org.apache.pdfbox.pdmodel.font.PDType1Font <init>\n",
            "WARNING: Using fallback font LiberationSans for base font ZapfDingbats\n",
            "\n"
          ]
        },
        {
          "metadata": {
            "tags": null
          },
          "name": "stdout",
          "output_type": "stream",
          "text": [
            "✅ Guardado en: REGISTROS PRESUPUESTALES CONSECUTIVO 2013 (1).xlsx (44 tablas)\n",
            "\n",
            "⏳ Procesando: REGISTROS PRESUPUESTALES CONSECUTIVO 2019 (2).pdf\n"
          ]
        },
        {
          "metadata": {
            "tags": null
          },
          "name": "stderr",
          "output_type": "stream",
          "text": [
            "WARNING:tabula.backend:Got stderr: Aug 29, 2025 8:18:32 PM org.apache.pdfbox.pdmodel.font.PDType1Font <init>\n",
            "WARNING: Using fallback font LiberationSans for base font Symbol\n",
            "Aug 29, 2025 8:18:32 PM org.apache.pdfbox.pdmodel.font.PDType1Font <init>\n",
            "WARNING: Using fallback font LiberationSans for base font ZapfDingbats\n",
            "\n"
          ]
        },
        {
          "metadata": {
            "tags": null
          },
          "name": "stdout",
          "output_type": "stream",
          "text": [
            "✅ Guardado en: REGISTROS PRESUPUESTALES CONSECUTIVO 2019 (2).xlsx (50 tablas)\n",
            "\n",
            "⏳ Procesando: REGISTROS PRESUPUESTALES CONSECUTIVO 2006 (1).pdf\n"
          ]
        },
        {
          "metadata": {
            "tags": null
          },
          "name": "stderr",
          "output_type": "stream",
          "text": [
            "WARNING:tabula.backend:Got stderr: Aug 29, 2025 8:18:53 PM org.apache.pdfbox.pdmodel.font.PDType1Font <init>\n",
            "WARNING: Using fallback font LiberationSans for base font Symbol\n",
            "Aug 29, 2025 8:18:53 PM org.apache.pdfbox.pdmodel.font.PDType1Font <init>\n",
            "WARNING: Using fallback font LiberationSans for base font ZapfDingbats\n",
            "\n"
          ]
        },
        {
          "metadata": {
            "tags": null
          },
          "name": "stdout",
          "output_type": "stream",
          "text": [
            "✅ Guardado en: REGISTROS PRESUPUESTALES CONSECUTIVO 2006 (1).xlsx (24 tablas)\n",
            "\n",
            "⏳ Procesando: REGISTROS PRESUPUESTALES CONSECUTIVO 2005 (2).pdf\n"
          ]
        },
        {
          "metadata": {
            "tags": null
          },
          "name": "stderr",
          "output_type": "stream",
          "text": [
            "WARNING:tabula.backend:Got stderr: Aug 29, 2025 8:19:07 PM org.apache.pdfbox.pdmodel.font.PDType1Font <init>\n",
            "WARNING: Using fallback font LiberationSans for base font Symbol\n",
            "Aug 29, 2025 8:19:07 PM org.apache.pdfbox.pdmodel.font.PDType1Font <init>\n",
            "WARNING: Using fallback font LiberationSans for base font ZapfDingbats\n",
            "\n"
          ]
        },
        {
          "metadata": {
            "tags": null
          },
          "name": "stdout",
          "output_type": "stream",
          "text": [
            "✅ Guardado en: REGISTROS PRESUPUESTALES CONSECUTIVO 2005 (2).xlsx (21 tablas)\n",
            "\n",
            "⏳ Procesando: REGISTROS PRESUPUESTALES CONSECUTIVO 2014.pdf\n"
          ]
        },
        {
          "output_type": "stream",
          "name": "stderr",
          "text": [
            "WARNING:tabula.backend:Got stderr: Aug 29, 2025 8:19:19 PM org.apache.pdfbox.pdmodel.font.PDType1Font <init>\n",
            "WARNING: Using fallback font LiberationSans for base font Symbol\n",
            "Aug 29, 2025 8:19:19 PM org.apache.pdfbox.pdmodel.font.PDType1Font <init>\n",
            "WARNING: Using fallback font LiberationSans for base font ZapfDingbats\n",
            "\n"
          ]
        },
        {
          "output_type": "stream",
          "name": "stdout",
          "text": [
            "✅ Guardado en: REGISTROS PRESUPUESTALES CONSECUTIVO 2014.xlsx (42 tablas)\n",
            "\n",
            "⏳ Procesando: REGISTROS PRESUPUESTALES CONSECUTIVO 2008 (2).pdf\n"
          ]
        },
        {
          "output_type": "stream",
          "name": "stderr",
          "text": [
            "WARNING:tabula.backend:Got stderr: Aug 29, 2025 8:19:37 PM org.apache.pdfbox.pdmodel.font.PDType1Font <init>\n",
            "WARNING: Using fallback font LiberationSans for base font Symbol\n",
            "Aug 29, 2025 8:19:37 PM org.apache.pdfbox.pdmodel.font.PDType1Font <init>\n",
            "WARNING: Using fallback font LiberationSans for base font ZapfDingbats\n",
            "\n"
          ]
        },
        {
          "output_type": "stream",
          "name": "stdout",
          "text": [
            "✅ Guardado en: REGISTROS PRESUPUESTALES CONSECUTIVO 2008 (2).xlsx (29 tablas)\n"
          ]
        }
      ]
    },
    {
      "cell_type": "code",
      "source": [
        "import tabula\n",
        "import pandas as pd\n",
        "import os\n",
        "\n",
        "# Lista de PDFs en la carpeta\n",
        "archivos = [f for f in os.listdir() if f.endswith(\".pdf\")]\n",
        "\n",
        "# Lista para guardar todas las tablas en un solo DataFrame\n",
        "todas_tablas = []\n",
        "\n",
        "for archivo in archivos:\n",
        "    print(f\"\\n⏳ Procesando: {archivo}\")\n",
        "\n",
        "    try:\n",
        "        # Lee todas las tablas del PDF\n",
        "        tablas = tabula.read_pdf(archivo, pages=\"all\", multiple_tables=True)\n",
        "\n",
        "        if len(tablas) == 0:\n",
        "            print(f\"⚠️ No se encontraron tablas en {archivo}\")\n",
        "            continue\n",
        "\n",
        "        # Agregar columna de origen (nombre del PDF)\n",
        "        for i, tabla in enumerate(tablas):\n",
        "            tabla[\"Archivo_origen\"] = archivo\n",
        "            tabla[\"Tabla_N\"] = i + 1\n",
        "            todas_tablas.append(tabla)\n",
        "\n",
        "        print(f\"✅ {len(tablas)} tablas extraídas de {archivo}\")\n",
        "\n",
        "    except Exception as e:\n",
        "        print(f\"❌ Error con {archivo}: {e}\")\n",
        "\n",
        "# Unir todas las tablas en un solo DataFrame\n",
        "if todas_tablas:\n",
        "    consolidado = pd.concat(todas_tablas, ignore_index=True)\n",
        "    consolidado.to_excel(\"Consolidado_PDFs.xlsx\", index=False)\n",
        "    print(\"\\n📊 Consolidado guardado en 'Consolidado_PDFs.xlsx'\")\n",
        "else:\n",
        "    print(\"\\n⚠️ No se extrajo ninguna tabla\")\n"
      ],
      "metadata": {
        "colab": {
          "base_uri": "https://localhost:8080/"
        },
        "id": "IUkA9ZGgikAg",
        "outputId": "6c0a6e5c-470f-4f19-852c-dd54a07ab8b0"
      },
      "execution_count": null,
      "outputs": [
        {
          "output_type": "stream",
          "name": "stdout",
          "text": [
            "\n",
            "⏳ Procesando: REGISTROS PRESUPUESTALES CONSECUTIVO 2018 (2).pdf\n"
          ]
        },
        {
          "output_type": "stream",
          "name": "stderr",
          "text": [
            "WARNING:tabula.backend:Got stderr: Aug 29, 2025 8:33:58 PM org.apache.pdfbox.pdmodel.font.PDType1Font <init>\n",
            "WARNING: Using fallback font LiberationSans for base font Symbol\n",
            "Aug 29, 2025 8:33:58 PM org.apache.pdfbox.pdmodel.font.PDType1Font <init>\n",
            "WARNING: Using fallback font LiberationSans for base font ZapfDingbats\n",
            "\n"
          ]
        },
        {
          "output_type": "stream",
          "name": "stdout",
          "text": [
            "✅ 42 tablas extraídas de REGISTROS PRESUPUESTALES CONSECUTIVO 2018 (2).pdf\n",
            "\n",
            "⏳ Procesando: REGISTROS PRESUPUESTALES CONSECUTIVO 2008.pdf\n"
          ]
        },
        {
          "output_type": "stream",
          "name": "stderr",
          "text": [
            "WARNING:tabula.backend:Got stderr: Aug 29, 2025 8:34:16 PM org.apache.pdfbox.pdmodel.font.PDType1Font <init>\n",
            "WARNING: Using fallback font LiberationSans for base font Symbol\n",
            "Aug 29, 2025 8:34:16 PM org.apache.pdfbox.pdmodel.font.PDType1Font <init>\n",
            "WARNING: Using fallback font LiberationSans for base font ZapfDingbats\n",
            "\n"
          ]
        },
        {
          "output_type": "stream",
          "name": "stdout",
          "text": [
            "✅ 29 tablas extraídas de REGISTROS PRESUPUESTALES CONSECUTIVO 2008.pdf\n",
            "\n",
            "⏳ Procesando: REGISTROS PRESUPUESTALES CONSECUTIVO 2020 (2).pdf\n"
          ]
        },
        {
          "output_type": "stream",
          "name": "stderr",
          "text": [
            "WARNING:tabula.backend:Got stderr: Aug 29, 2025 8:34:30 PM org.apache.pdfbox.pdmodel.font.PDType1Font <init>\n",
            "WARNING: Using fallback font LiberationSans for base font Symbol\n",
            "Aug 29, 2025 8:34:30 PM org.apache.pdfbox.pdmodel.font.PDType1Font <init>\n",
            "WARNING: Using fallback font LiberationSans for base font ZapfDingbats\n",
            "\n"
          ]
        },
        {
          "output_type": "stream",
          "name": "stdout",
          "text": [
            "✅ 49 tablas extraídas de REGISTROS PRESUPUESTALES CONSECUTIVO 2020 (2).pdf\n",
            "\n",
            "⏳ Procesando: REGISTROS PRESUPUESTALES CONSECUTIVO 2007 (2).pdf\n"
          ]
        },
        {
          "output_type": "stream",
          "name": "stderr",
          "text": [
            "WARNING:tabula.backend:Got stderr: Aug 29, 2025 8:34:51 PM org.apache.pdfbox.pdmodel.font.PDType1Font <init>\n",
            "WARNING: Using fallback font LiberationSans for base font Symbol\n",
            "Aug 29, 2025 8:34:51 PM org.apache.pdfbox.pdmodel.font.PDType1Font <init>\n",
            "WARNING: Using fallback font LiberationSans for base font ZapfDingbats\n",
            "\n"
          ]
        },
        {
          "output_type": "stream",
          "name": "stdout",
          "text": [
            "✅ 26 tablas extraídas de REGISTROS PRESUPUESTALES CONSECUTIVO 2007 (2).pdf\n",
            "\n",
            "⏳ Procesando: REGISTROS PRESUPUESTALES CONSECUTIVO 2013.pdf\n"
          ]
        },
        {
          "output_type": "stream",
          "name": "stderr",
          "text": [
            "WARNING:tabula.backend:Got stderr: Aug 29, 2025 8:35:04 PM org.apache.pdfbox.pdmodel.font.PDType1Font <init>\n",
            "WARNING: Using fallback font LiberationSans for base font Symbol\n",
            "Aug 29, 2025 8:35:04 PM org.apache.pdfbox.pdmodel.font.PDType1Font <init>\n",
            "WARNING: Using fallback font LiberationSans for base font ZapfDingbats\n",
            "\n"
          ]
        },
        {
          "output_type": "stream",
          "name": "stdout",
          "text": [
            "✅ 44 tablas extraídas de REGISTROS PRESUPUESTALES CONSECUTIVO 2013.pdf\n",
            "\n",
            "⏳ Procesando: REGISTROS PRESUPUESTALES CONSECUTIVO 2010 (2).pdf\n"
          ]
        },
        {
          "output_type": "stream",
          "name": "stderr",
          "text": [
            "WARNING:tabula.backend:Got stderr: Aug 29, 2025 8:35:22 PM org.apache.pdfbox.pdmodel.font.PDType1Font <init>\n",
            "WARNING: Using fallback font LiberationSans for base font Symbol\n",
            "Aug 29, 2025 8:35:23 PM org.apache.pdfbox.pdmodel.font.PDType1Font <init>\n",
            "WARNING: Using fallback font LiberationSans for base font ZapfDingbats\n",
            "\n"
          ]
        },
        {
          "output_type": "stream",
          "name": "stdout",
          "text": [
            "✅ 45 tablas extraídas de REGISTROS PRESUPUESTALES CONSECUTIVO 2010 (2).pdf\n",
            "\n",
            "⏳ Procesando: REGISTROS PRESUPUESTALES CONSECUTIVO 2017 (2).pdf\n"
          ]
        },
        {
          "output_type": "stream",
          "name": "stderr",
          "text": [
            "WARNING:tabula.backend:Got stderr: Aug 29, 2025 8:35:43 PM org.apache.pdfbox.pdmodel.font.PDType1Font <init>\n",
            "WARNING: Using fallback font LiberationSans for base font Symbol\n",
            "Aug 29, 2025 8:35:43 PM org.apache.pdfbox.pdmodel.font.PDType1Font <init>\n",
            "WARNING: Using fallback font LiberationSans for base font ZapfDingbats\n",
            "\n"
          ]
        },
        {
          "output_type": "stream",
          "name": "stdout",
          "text": [
            "✅ 40 tablas extraídas de REGISTROS PRESUPUESTALES CONSECUTIVO 2017 (2).pdf\n",
            "\n",
            "⏳ Procesando: REGISTROS PRESUPUESTALES CONSECUTIVO 2009 (1).pdf\n"
          ]
        },
        {
          "output_type": "stream",
          "name": "stderr",
          "text": [
            "WARNING:tabula.backend:Got stderr: Aug 29, 2025 8:36:00 PM org.apache.pdfbox.pdmodel.font.PDType1Font <init>\n",
            "WARNING: Using fallback font LiberationSans for base font Symbol\n",
            "Aug 29, 2025 8:36:00 PM org.apache.pdfbox.pdmodel.font.PDType1Font <init>\n",
            "WARNING: Using fallback font LiberationSans for base font ZapfDingbats\n",
            "\n"
          ]
        },
        {
          "output_type": "stream",
          "name": "stdout",
          "text": [
            "✅ 41 tablas extraídas de REGISTROS PRESUPUESTALES CONSECUTIVO 2009 (1).pdf\n",
            "\n",
            "⏳ Procesando: REGISTROS PRESUPUESTALES CONSECUTIVO 2013 (2).pdf\n"
          ]
        },
        {
          "output_type": "stream",
          "name": "stderr",
          "text": [
            "WARNING:tabula.backend:Got stderr: Aug 29, 2025 8:36:18 PM org.apache.pdfbox.pdmodel.font.PDType1Font <init>\n",
            "WARNING: Using fallback font LiberationSans for base font Symbol\n",
            "Aug 29, 2025 8:36:18 PM org.apache.pdfbox.pdmodel.font.PDType1Font <init>\n",
            "WARNING: Using fallback font LiberationSans for base font ZapfDingbats\n",
            "\n"
          ]
        },
        {
          "output_type": "stream",
          "name": "stdout",
          "text": [
            "✅ 44 tablas extraídas de REGISTROS PRESUPUESTALES CONSECUTIVO 2013 (2).pdf\n",
            "\n",
            "⏳ Procesando: REGISTROS PRESUPUESTALES CONSECUTIVO 2012.pdf\n"
          ]
        },
        {
          "output_type": "stream",
          "name": "stderr",
          "text": [
            "WARNING:tabula.backend:Got stderr: Aug 29, 2025 8:36:36 PM org.apache.pdfbox.pdmodel.font.PDType1Font <init>\n",
            "WARNING: Using fallback font LiberationSans for base font Symbol\n",
            "Aug 29, 2025 8:36:36 PM org.apache.pdfbox.pdmodel.font.PDType1Font <init>\n",
            "WARNING: Using fallback font LiberationSans for base font ZapfDingbats\n",
            "\n"
          ]
        },
        {
          "output_type": "stream",
          "name": "stdout",
          "text": [
            "✅ 43 tablas extraídas de REGISTROS PRESUPUESTALES CONSECUTIVO 2012.pdf\n",
            "\n",
            "⏳ Procesando: REGISTROS PRESUPUESTALES CONSECUTIVO 2005.pdf\n"
          ]
        },
        {
          "output_type": "stream",
          "name": "stderr",
          "text": [
            "WARNING:tabula.backend:Got stderr: Aug 29, 2025 8:36:53 PM org.apache.pdfbox.pdmodel.font.PDType1Font <init>\n",
            "WARNING: Using fallback font LiberationSans for base font Symbol\n",
            "Aug 29, 2025 8:36:53 PM org.apache.pdfbox.pdmodel.font.PDType1Font <init>\n",
            "WARNING: Using fallback font LiberationSans for base font ZapfDingbats\n",
            "\n"
          ]
        },
        {
          "output_type": "stream",
          "name": "stdout",
          "text": [
            "✅ 21 tablas extraídas de REGISTROS PRESUPUESTALES CONSECUTIVO 2005.pdf\n",
            "\n",
            "⏳ Procesando: REGISTROS PRESUPUESTALES CONSECUTIVO 2014 (1).pdf\n"
          ]
        },
        {
          "output_type": "stream",
          "name": "stderr",
          "text": [
            "WARNING:tabula.backend:Got stderr: Aug 29, 2025 8:37:05 PM org.apache.pdfbox.pdmodel.font.PDType1Font <init>\n",
            "WARNING: Using fallback font LiberationSans for base font Symbol\n",
            "Aug 29, 2025 8:37:05 PM org.apache.pdfbox.pdmodel.font.PDType1Font <init>\n",
            "WARNING: Using fallback font LiberationSans for base font ZapfDingbats\n",
            "\n"
          ]
        },
        {
          "output_type": "stream",
          "name": "stdout",
          "text": [
            "✅ 42 tablas extraídas de REGISTROS PRESUPUESTALES CONSECUTIVO 2014 (1).pdf\n",
            "\n",
            "⏳ Procesando: REGISTROS PRESUPUESTALES CONSECUTIVO 2020 (1).pdf\n"
          ]
        },
        {
          "output_type": "stream",
          "name": "stderr",
          "text": [
            "WARNING:tabula.backend:Got stderr: Aug 29, 2025 8:37:24 PM org.apache.pdfbox.pdmodel.font.PDType1Font <init>\n",
            "WARNING: Using fallback font LiberationSans for base font Symbol\n",
            "Aug 29, 2025 8:37:24 PM org.apache.pdfbox.pdmodel.font.PDType1Font <init>\n",
            "WARNING: Using fallback font LiberationSans for base font ZapfDingbats\n",
            "\n"
          ]
        },
        {
          "output_type": "stream",
          "name": "stdout",
          "text": [
            "✅ 49 tablas extraídas de REGISTROS PRESUPUESTALES CONSECUTIVO 2020 (1).pdf\n",
            "\n",
            "⏳ Procesando: REGISTROS PRESUPUESTALES CONSECUTIVO 2019.pdf\n"
          ]
        },
        {
          "output_type": "stream",
          "name": "stderr",
          "text": [
            "WARNING:tabula.backend:Got stderr: Aug 29, 2025 8:37:43 PM org.apache.pdfbox.pdmodel.font.PDType1Font <init>\n",
            "WARNING: Using fallback font LiberationSans for base font Symbol\n",
            "Aug 29, 2025 8:37:43 PM org.apache.pdfbox.pdmodel.font.PDType1Font <init>\n",
            "WARNING: Using fallback font LiberationSans for base font ZapfDingbats\n",
            "\n"
          ]
        },
        {
          "output_type": "stream",
          "name": "stdout",
          "text": [
            "✅ 50 tablas extraídas de REGISTROS PRESUPUESTALES CONSECUTIVO 2019.pdf\n",
            "\n",
            "⏳ Procesando: REGISTROS PRESUPUESTALES CONSECUTIVO 2006 (2).pdf\n"
          ]
        },
        {
          "output_type": "stream",
          "name": "stderr",
          "text": [
            "WARNING:tabula.backend:Got stderr: Aug 29, 2025 8:38:03 PM org.apache.pdfbox.pdmodel.font.PDType1Font <init>\n",
            "WARNING: Using fallback font LiberationSans for base font Symbol\n",
            "Aug 29, 2025 8:38:03 PM org.apache.pdfbox.pdmodel.font.PDType1Font <init>\n",
            "WARNING: Using fallback font LiberationSans for base font ZapfDingbats\n",
            "\n"
          ]
        },
        {
          "output_type": "stream",
          "name": "stdout",
          "text": [
            "✅ 24 tablas extraídas de REGISTROS PRESUPUESTALES CONSECUTIVO 2006 (2).pdf\n",
            "\n",
            "⏳ Procesando: REGISTROS PRESUPUESTALES CONSECUTIVO 2015 (2).pdf\n"
          ]
        },
        {
          "output_type": "stream",
          "name": "stderr",
          "text": [
            "WARNING:tabula.backend:Got stderr: Aug 29, 2025 8:38:16 PM org.apache.pdfbox.pdmodel.font.PDType1Font <init>\n",
            "WARNING: Using fallback font LiberationSans for base font Symbol\n",
            "Aug 29, 2025 8:38:16 PM org.apache.pdfbox.pdmodel.font.PDType1Font <init>\n",
            "WARNING: Using fallback font LiberationSans for base font ZapfDingbats\n",
            "\n"
          ]
        },
        {
          "output_type": "stream",
          "name": "stdout",
          "text": [
            "✅ 45 tablas extraídas de REGISTROS PRESUPUESTALES CONSECUTIVO 2015 (2).pdf\n",
            "\n",
            "⏳ Procesando: REGISTROS PRESUPUESTALES CONSECUTIVO 2011 (2).pdf\n"
          ]
        },
        {
          "output_type": "stream",
          "name": "stderr",
          "text": [
            "WARNING:tabula.backend:Got stderr: Aug 29, 2025 8:38:36 PM org.apache.pdfbox.pdmodel.font.PDType1Font <init>\n",
            "WARNING: Using fallback font LiberationSans for base font Symbol\n",
            "Aug 29, 2025 8:38:36 PM org.apache.pdfbox.pdmodel.font.PDType1Font <init>\n",
            "WARNING: Using fallback font LiberationSans for base font ZapfDingbats\n",
            "\n"
          ]
        },
        {
          "output_type": "stream",
          "name": "stdout",
          "text": [
            "✅ 47 tablas extraídas de REGISTROS PRESUPUESTALES CONSECUTIVO 2011 (2).pdf\n",
            "\n",
            "⏳ Procesando: REGISTROS PRESUPUESTALES CONSECUTIVO 2011 (1).pdf\n"
          ]
        },
        {
          "output_type": "stream",
          "name": "stderr",
          "text": [
            "WARNING:tabula.backend:Got stderr: Aug 29, 2025 8:38:56 PM org.apache.pdfbox.pdmodel.font.PDType1Font <init>\n",
            "WARNING: Using fallback font LiberationSans for base font Symbol\n",
            "Aug 29, 2025 8:38:56 PM org.apache.pdfbox.pdmodel.font.PDType1Font <init>\n",
            "WARNING: Using fallback font LiberationSans for base font ZapfDingbats\n",
            "\n"
          ]
        },
        {
          "output_type": "stream",
          "name": "stdout",
          "text": [
            "✅ 47 tablas extraídas de REGISTROS PRESUPUESTALES CONSECUTIVO 2011 (1).pdf\n",
            "\n",
            "⏳ Procesando: REGISTROS PRESUPUESTALES CONSECUTIVO 2017.pdf\n"
          ]
        },
        {
          "output_type": "stream",
          "name": "stderr",
          "text": [
            "WARNING:tabula.backend:Got stderr: Aug 29, 2025 8:39:14 PM org.apache.pdfbox.pdmodel.font.PDType1Font <init>\n",
            "WARNING: Using fallback font LiberationSans for base font Symbol\n",
            "Aug 29, 2025 8:39:14 PM org.apache.pdfbox.pdmodel.font.PDType1Font <init>\n",
            "WARNING: Using fallback font LiberationSans for base font ZapfDingbats\n",
            "\n"
          ]
        },
        {
          "output_type": "stream",
          "name": "stdout",
          "text": [
            "✅ 40 tablas extraídas de REGISTROS PRESUPUESTALES CONSECUTIVO 2017.pdf\n",
            "\n",
            "⏳ Procesando: REGISTROS PRESUPUESTALES CONSECUTIVO 2012 (2).pdf\n"
          ]
        },
        {
          "output_type": "stream",
          "name": "stderr",
          "text": [
            "WARNING:tabula.backend:Got stderr: Aug 29, 2025 8:39:31 PM org.apache.pdfbox.pdmodel.font.PDType1Font <init>\n",
            "WARNING: Using fallback font LiberationSans for base font Symbol\n",
            "Aug 29, 2025 8:39:31 PM org.apache.pdfbox.pdmodel.font.PDType1Font <init>\n",
            "WARNING: Using fallback font LiberationSans for base font ZapfDingbats\n",
            "\n"
          ]
        },
        {
          "output_type": "stream",
          "name": "stdout",
          "text": [
            "✅ 43 tablas extraídas de REGISTROS PRESUPUESTALES CONSECUTIVO 2012 (2).pdf\n",
            "\n",
            "⏳ Procesando: REGISTROS PRESUPUESTALES CONSECUTIVO 2018 (1).pdf\n"
          ]
        },
        {
          "output_type": "stream",
          "name": "stderr",
          "text": [
            "WARNING:tabula.backend:Got stderr: Aug 29, 2025 8:39:50 PM org.apache.pdfbox.pdmodel.font.PDType1Font <init>\n",
            "WARNING: Using fallback font LiberationSans for base font Symbol\n",
            "Aug 29, 2025 8:39:50 PM org.apache.pdfbox.pdmodel.font.PDType1Font <init>\n",
            "WARNING: Using fallback font LiberationSans for base font ZapfDingbats\n",
            "\n"
          ]
        },
        {
          "output_type": "stream",
          "name": "stdout",
          "text": [
            "✅ 42 tablas extraídas de REGISTROS PRESUPUESTALES CONSECUTIVO 2018 (1).pdf\n",
            "\n",
            "⏳ Procesando: REGISTROS PRESUPUESTALES CONSECUTIVO 2008 (1).pdf\n"
          ]
        },
        {
          "output_type": "stream",
          "name": "stderr",
          "text": [
            "WARNING:tabula.backend:Got stderr: Aug 29, 2025 8:40:07 PM org.apache.pdfbox.pdmodel.font.PDType1Font <init>\n",
            "WARNING: Using fallback font LiberationSans for base font Symbol\n",
            "Aug 29, 2025 8:40:07 PM org.apache.pdfbox.pdmodel.font.PDType1Font <init>\n",
            "WARNING: Using fallback font LiberationSans for base font ZapfDingbats\n",
            "\n"
          ]
        },
        {
          "output_type": "stream",
          "name": "stdout",
          "text": [
            "✅ 29 tablas extraídas de REGISTROS PRESUPUESTALES CONSECUTIVO 2008 (1).pdf\n",
            "\n",
            "⏳ Procesando: REGISTROS PRESUPUESTALES CONSECUTIVO 2019 (1).pdf\n"
          ]
        },
        {
          "output_type": "stream",
          "name": "stderr",
          "text": [
            "WARNING:tabula.backend:Got stderr: Aug 29, 2025 8:40:22 PM org.apache.pdfbox.pdmodel.font.PDType1Font <init>\n",
            "WARNING: Using fallback font LiberationSans for base font Symbol\n",
            "Aug 29, 2025 8:40:22 PM org.apache.pdfbox.pdmodel.font.PDType1Font <init>\n",
            "WARNING: Using fallback font LiberationSans for base font ZapfDingbats\n",
            "\n"
          ]
        },
        {
          "output_type": "stream",
          "name": "stdout",
          "text": [
            "✅ 50 tablas extraídas de REGISTROS PRESUPUESTALES CONSECUTIVO 2019 (1).pdf\n",
            "\n",
            "⏳ Procesando: REGISTROS PRESUPUESTALES CONSECUTIVO 2011.pdf\n"
          ]
        },
        {
          "output_type": "stream",
          "name": "stderr",
          "text": [
            "WARNING:tabula.backend:Got stderr: Aug 29, 2025 8:40:43 PM org.apache.pdfbox.pdmodel.font.PDType1Font <init>\n",
            "WARNING: Using fallback font LiberationSans for base font Symbol\n",
            "Aug 29, 2025 8:40:43 PM org.apache.pdfbox.pdmodel.font.PDType1Font <init>\n",
            "WARNING: Using fallback font LiberationSans for base font ZapfDingbats\n",
            "\n"
          ]
        },
        {
          "output_type": "stream",
          "name": "stdout",
          "text": [
            "✅ 47 tablas extraídas de REGISTROS PRESUPUESTALES CONSECUTIVO 2011.pdf\n",
            "\n",
            "⏳ Procesando: REGISTROS PRESUPUESTALES CONSECUTIVO 2006.pdf\n"
          ]
        },
        {
          "output_type": "stream",
          "name": "stderr",
          "text": [
            "WARNING:tabula.backend:Got stderr: Aug 29, 2025 8:41:02 PM org.apache.pdfbox.pdmodel.font.PDType1Font <init>\n",
            "WARNING: Using fallback font LiberationSans for base font Symbol\n",
            "Aug 29, 2025 8:41:02 PM org.apache.pdfbox.pdmodel.font.PDType1Font <init>\n",
            "WARNING: Using fallback font LiberationSans for base font ZapfDingbats\n",
            "\n"
          ]
        },
        {
          "output_type": "stream",
          "name": "stdout",
          "text": [
            "✅ 24 tablas extraídas de REGISTROS PRESUPUESTALES CONSECUTIVO 2006.pdf\n",
            "\n",
            "⏳ Procesando: REGISTROS PRESUPUESTALES CONSECUTIVO 2016.pdf\n"
          ]
        },
        {
          "output_type": "stream",
          "name": "stderr",
          "text": [
            "WARNING:tabula.backend:Got stderr: Aug 29, 2025 8:41:15 PM org.apache.pdfbox.pdmodel.font.PDType1Font <init>\n",
            "WARNING: Using fallback font LiberationSans for base font Symbol\n",
            "Aug 29, 2025 8:41:15 PM org.apache.pdfbox.pdmodel.font.PDType1Font <init>\n",
            "WARNING: Using fallback font LiberationSans for base font ZapfDingbats\n",
            "\n"
          ]
        },
        {
          "output_type": "stream",
          "name": "stdout",
          "text": [
            "✅ 43 tablas extraídas de REGISTROS PRESUPUESTALES CONSECUTIVO 2016.pdf\n",
            "\n",
            "⏳ Procesando: REGISTROS PRESUPUESTALES CONSECUTIVO 2010.pdf\n"
          ]
        },
        {
          "output_type": "stream",
          "name": "stderr",
          "text": [
            "WARNING:tabula.backend:Got stderr: Aug 29, 2025 8:41:35 PM org.apache.pdfbox.pdmodel.font.PDType1Font <init>\n",
            "WARNING: Using fallback font LiberationSans for base font Symbol\n",
            "Aug 29, 2025 8:41:35 PM org.apache.pdfbox.pdmodel.font.PDType1Font <init>\n",
            "WARNING: Using fallback font LiberationSans for base font ZapfDingbats\n",
            "\n"
          ]
        },
        {
          "output_type": "stream",
          "name": "stdout",
          "text": [
            "✅ 45 tablas extraídas de REGISTROS PRESUPUESTALES CONSECUTIVO 2010.pdf\n",
            "\n",
            "⏳ Procesando: REGISTROS PRESUPUESTALES CONSECUTIVO 2012 (1).pdf\n"
          ]
        },
        {
          "output_type": "stream",
          "name": "stderr",
          "text": [
            "WARNING:tabula.backend:Got stderr: Aug 29, 2025 8:41:53 PM org.apache.pdfbox.pdmodel.font.PDType1Font <init>\n",
            "WARNING: Using fallback font LiberationSans for base font Symbol\n",
            "Aug 29, 2025 8:41:53 PM org.apache.pdfbox.pdmodel.font.PDType1Font <init>\n",
            "WARNING: Using fallback font LiberationSans for base font ZapfDingbats\n",
            "\n"
          ]
        },
        {
          "output_type": "stream",
          "name": "stdout",
          "text": [
            "✅ 43 tablas extraídas de REGISTROS PRESUPUESTALES CONSECUTIVO 2012 (1).pdf\n",
            "\n",
            "⏳ Procesando: REGISTROS PRESUPUESTALES CONSECUTIVO 2009.pdf\n"
          ]
        },
        {
          "output_type": "stream",
          "name": "stderr",
          "text": [
            "WARNING:tabula.backend:Got stderr: Aug 29, 2025 8:42:11 PM org.apache.pdfbox.pdmodel.font.PDType1Font <init>\n",
            "WARNING: Using fallback font LiberationSans for base font Symbol\n",
            "Aug 29, 2025 8:42:11 PM org.apache.pdfbox.pdmodel.font.PDType1Font <init>\n",
            "WARNING: Using fallback font LiberationSans for base font ZapfDingbats\n",
            "\n"
          ]
        },
        {
          "output_type": "stream",
          "name": "stdout",
          "text": [
            "✅ 41 tablas extraídas de REGISTROS PRESUPUESTALES CONSECUTIVO 2009.pdf\n",
            "\n",
            "⏳ Procesando: REGISTROS PRESUPUESTALES CONSECUTIVO 2010 (1).pdf\n"
          ]
        },
        {
          "output_type": "stream",
          "name": "stderr",
          "text": [
            "WARNING:tabula.backend:Got stderr: Aug 29, 2025 8:42:29 PM org.apache.pdfbox.pdmodel.font.PDType1Font <init>\n",
            "WARNING: Using fallback font LiberationSans for base font Symbol\n",
            "Aug 29, 2025 8:42:29 PM org.apache.pdfbox.pdmodel.font.PDType1Font <init>\n",
            "WARNING: Using fallback font LiberationSans for base font ZapfDingbats\n",
            "\n"
          ]
        },
        {
          "output_type": "stream",
          "name": "stdout",
          "text": [
            "✅ 45 tablas extraídas de REGISTROS PRESUPUESTALES CONSECUTIVO 2010 (1).pdf\n",
            "\n",
            "⏳ Procesando: REGISTROS PRESUPUESTALES CONSECUTIVO 2007 (1).pdf\n"
          ]
        },
        {
          "output_type": "stream",
          "name": "stderr",
          "text": [
            "WARNING:tabula.backend:Got stderr: Aug 29, 2025 8:42:47 PM org.apache.pdfbox.pdmodel.font.PDType1Font <init>\n",
            "WARNING: Using fallback font LiberationSans for base font Symbol\n",
            "Aug 29, 2025 8:42:47 PM org.apache.pdfbox.pdmodel.font.PDType1Font <init>\n",
            "WARNING: Using fallback font LiberationSans for base font ZapfDingbats\n",
            "\n"
          ]
        },
        {
          "output_type": "stream",
          "name": "stdout",
          "text": [
            "✅ 26 tablas extraídas de REGISTROS PRESUPUESTALES CONSECUTIVO 2007 (1).pdf\n",
            "\n",
            "⏳ Procesando: REGISTROS PRESUPUESTALES CONSECUTIVO 2007.pdf\n"
          ]
        },
        {
          "output_type": "stream",
          "name": "stderr",
          "text": [
            "WARNING:tabula.backend:Got stderr: Aug 29, 2025 8:43:01 PM org.apache.pdfbox.pdmodel.font.PDType1Font <init>\n",
            "WARNING: Using fallback font LiberationSans for base font Symbol\n",
            "Aug 29, 2025 8:43:01 PM org.apache.pdfbox.pdmodel.font.PDType1Font <init>\n",
            "WARNING: Using fallback font LiberationSans for base font ZapfDingbats\n",
            "\n"
          ]
        },
        {
          "output_type": "stream",
          "name": "stdout",
          "text": [
            "✅ 26 tablas extraídas de REGISTROS PRESUPUESTALES CONSECUTIVO 2007.pdf\n",
            "\n",
            "⏳ Procesando: REGISTROS PRESUPUESTALES CONSECUTIVO 2015.pdf\n"
          ]
        },
        {
          "output_type": "stream",
          "name": "stderr",
          "text": [
            "WARNING:tabula.backend:Got stderr: Aug 29, 2025 8:43:15 PM org.apache.pdfbox.pdmodel.font.PDType1Font <init>\n",
            "WARNING: Using fallback font LiberationSans for base font Symbol\n",
            "Aug 29, 2025 8:43:15 PM org.apache.pdfbox.pdmodel.font.PDType1Font <init>\n",
            "WARNING: Using fallback font LiberationSans for base font ZapfDingbats\n",
            "\n"
          ]
        },
        {
          "output_type": "stream",
          "name": "stdout",
          "text": [
            "✅ 45 tablas extraídas de REGISTROS PRESUPUESTALES CONSECUTIVO 2015.pdf\n",
            "\n",
            "⏳ Procesando: REGISTROS PRESUPUESTALES CONSECUTIVO 2017 (1).pdf\n"
          ]
        },
        {
          "output_type": "stream",
          "name": "stderr",
          "text": [
            "WARNING:tabula.backend:Got stderr: Aug 29, 2025 8:43:34 PM org.apache.pdfbox.pdmodel.font.PDType1Font <init>\n",
            "WARNING: Using fallback font LiberationSans for base font Symbol\n",
            "Aug 29, 2025 8:43:34 PM org.apache.pdfbox.pdmodel.font.PDType1Font <init>\n",
            "WARNING: Using fallback font LiberationSans for base font ZapfDingbats\n",
            "\n"
          ]
        },
        {
          "output_type": "stream",
          "name": "stdout",
          "text": [
            "✅ 40 tablas extraídas de REGISTROS PRESUPUESTALES CONSECUTIVO 2017 (1).pdf\n",
            "\n",
            "⏳ Procesando: REGISTROS PRESUPUESTALES CONSECUTIVO 2015 (1).pdf\n"
          ]
        },
        {
          "output_type": "stream",
          "name": "stderr",
          "text": [
            "WARNING:tabula.backend:Got stderr: Aug 29, 2025 8:43:50 PM org.apache.pdfbox.pdmodel.font.PDType1Font <init>\n",
            "WARNING: Using fallback font LiberationSans for base font Symbol\n",
            "Aug 29, 2025 8:43:50 PM org.apache.pdfbox.pdmodel.font.PDType1Font <init>\n",
            "WARNING: Using fallback font LiberationSans for base font ZapfDingbats\n",
            "\n"
          ]
        },
        {
          "output_type": "stream",
          "name": "stdout",
          "text": [
            "✅ 45 tablas extraídas de REGISTROS PRESUPUESTALES CONSECUTIVO 2015 (1).pdf\n",
            "\n",
            "⏳ Procesando: REGISTROS PRESUPUESTALES CONSECUTIVO 2016 (1).pdf\n"
          ]
        },
        {
          "output_type": "stream",
          "name": "stderr",
          "text": [
            "WARNING:tabula.backend:Got stderr: Aug 29, 2025 8:44:10 PM org.apache.pdfbox.pdmodel.font.PDType1Font <init>\n",
            "WARNING: Using fallback font LiberationSans for base font Symbol\n",
            "Aug 29, 2025 8:44:10 PM org.apache.pdfbox.pdmodel.font.PDType1Font <init>\n",
            "WARNING: Using fallback font LiberationSans for base font ZapfDingbats\n",
            "\n"
          ]
        },
        {
          "output_type": "stream",
          "name": "stdout",
          "text": [
            "✅ 43 tablas extraídas de REGISTROS PRESUPUESTALES CONSECUTIVO 2016 (1).pdf\n",
            "\n",
            "⏳ Procesando: REGISTROS PRESUPUESTALES CONSECUTIVO 2014 (2).pdf\n"
          ]
        },
        {
          "output_type": "stream",
          "name": "stderr",
          "text": [
            "WARNING:tabula.backend:Got stderr: Aug 29, 2025 8:44:29 PM org.apache.pdfbox.pdmodel.font.PDType1Font <init>\n",
            "WARNING: Using fallback font LiberationSans for base font Symbol\n",
            "Aug 29, 2025 8:44:29 PM org.apache.pdfbox.pdmodel.font.PDType1Font <init>\n",
            "WARNING: Using fallback font LiberationSans for base font ZapfDingbats\n",
            "\n"
          ]
        },
        {
          "output_type": "stream",
          "name": "stdout",
          "text": [
            "✅ 42 tablas extraídas de REGISTROS PRESUPUESTALES CONSECUTIVO 2014 (2).pdf\n",
            "\n",
            "⏳ Procesando: REGISTROS PRESUPUESTALES CONSECUTIVO 2018.pdf\n"
          ]
        },
        {
          "output_type": "stream",
          "name": "stderr",
          "text": [
            "WARNING:tabula.backend:Got stderr: Aug 29, 2025 8:44:47 PM org.apache.pdfbox.pdmodel.font.PDType1Font <init>\n",
            "WARNING: Using fallback font LiberationSans for base font Symbol\n",
            "Aug 29, 2025 8:44:47 PM org.apache.pdfbox.pdmodel.font.PDType1Font <init>\n",
            "WARNING: Using fallback font LiberationSans for base font ZapfDingbats\n",
            "\n"
          ]
        },
        {
          "output_type": "stream",
          "name": "stdout",
          "text": [
            "✅ 42 tablas extraídas de REGISTROS PRESUPUESTALES CONSECUTIVO 2018.pdf\n",
            "\n",
            "⏳ Procesando: REGISTROS PRESUPUESTALES CONSECUTIVO 2016 (2).pdf\n"
          ]
        },
        {
          "output_type": "stream",
          "name": "stderr",
          "text": [
            "WARNING:tabula.backend:Got stderr: Aug 29, 2025 8:45:05 PM org.apache.pdfbox.pdmodel.font.PDType1Font <init>\n",
            "WARNING: Using fallback font LiberationSans for base font Symbol\n",
            "Aug 29, 2025 8:45:05 PM org.apache.pdfbox.pdmodel.font.PDType1Font <init>\n",
            "WARNING: Using fallback font LiberationSans for base font ZapfDingbats\n",
            "\n"
          ]
        },
        {
          "output_type": "stream",
          "name": "stdout",
          "text": [
            "✅ 43 tablas extraídas de REGISTROS PRESUPUESTALES CONSECUTIVO 2016 (2).pdf\n",
            "\n",
            "⏳ Procesando: REGISTROS PRESUPUESTALES CONSECUTIVO 2009 (2).pdf\n"
          ]
        },
        {
          "output_type": "stream",
          "name": "stderr",
          "text": [
            "WARNING:tabula.backend:Got stderr: Aug 29, 2025 8:45:23 PM org.apache.pdfbox.pdmodel.font.PDType1Font <init>\n",
            "WARNING: Using fallback font LiberationSans for base font Symbol\n",
            "Aug 29, 2025 8:45:23 PM org.apache.pdfbox.pdmodel.font.PDType1Font <init>\n",
            "WARNING: Using fallback font LiberationSans for base font ZapfDingbats\n",
            "\n"
          ]
        },
        {
          "output_type": "stream",
          "name": "stdout",
          "text": [
            "✅ 41 tablas extraídas de REGISTROS PRESUPUESTALES CONSECUTIVO 2009 (2).pdf\n",
            "\n",
            "⏳ Procesando: REGISTROS PRESUPUESTALES CONSECUTIVO 2020.pdf\n"
          ]
        },
        {
          "output_type": "stream",
          "name": "stderr",
          "text": [
            "WARNING:tabula.backend:Got stderr: Aug 29, 2025 8:45:42 PM org.apache.pdfbox.pdmodel.font.PDType1Font <init>\n",
            "WARNING: Using fallback font LiberationSans for base font Symbol\n",
            "Aug 29, 2025 8:45:42 PM org.apache.pdfbox.pdmodel.font.PDType1Font <init>\n",
            "WARNING: Using fallback font LiberationSans for base font ZapfDingbats\n",
            "\n"
          ]
        },
        {
          "output_type": "stream",
          "name": "stdout",
          "text": [
            "✅ 49 tablas extraídas de REGISTROS PRESUPUESTALES CONSECUTIVO 2020.pdf\n",
            "\n",
            "⏳ Procesando: REGISTROS PRESUPUESTALES CONSECUTIVO 2005 (1).pdf\n"
          ]
        },
        {
          "output_type": "stream",
          "name": "stderr",
          "text": [
            "WARNING:tabula.backend:Got stderr: Aug 29, 2025 8:46:02 PM org.apache.pdfbox.pdmodel.font.PDType1Font <init>\n",
            "WARNING: Using fallback font LiberationSans for base font Symbol\n",
            "Aug 29, 2025 8:46:02 PM org.apache.pdfbox.pdmodel.font.PDType1Font <init>\n",
            "WARNING: Using fallback font LiberationSans for base font ZapfDingbats\n",
            "\n"
          ]
        },
        {
          "output_type": "stream",
          "name": "stdout",
          "text": [
            "✅ 21 tablas extraídas de REGISTROS PRESUPUESTALES CONSECUTIVO 2005 (1).pdf\n",
            "\n",
            "⏳ Procesando: REGISTROS PRESUPUESTALES CONSECUTIVO 2013 (1).pdf\n"
          ]
        },
        {
          "output_type": "stream",
          "name": "stderr",
          "text": [
            "WARNING:tabula.backend:Got stderr: Aug 29, 2025 8:46:14 PM org.apache.pdfbox.pdmodel.font.PDType1Font <init>\n",
            "WARNING: Using fallback font LiberationSans for base font Symbol\n",
            "Aug 29, 2025 8:46:14 PM org.apache.pdfbox.pdmodel.font.PDType1Font <init>\n",
            "WARNING: Using fallback font LiberationSans for base font ZapfDingbats\n",
            "\n"
          ]
        },
        {
          "output_type": "stream",
          "name": "stdout",
          "text": [
            "✅ 44 tablas extraídas de REGISTROS PRESUPUESTALES CONSECUTIVO 2013 (1).pdf\n",
            "\n",
            "⏳ Procesando: REGISTROS PRESUPUESTALES CONSECUTIVO 2019 (2).pdf\n"
          ]
        },
        {
          "output_type": "stream",
          "name": "stderr",
          "text": [
            "WARNING:tabula.backend:Got stderr: Aug 29, 2025 8:46:33 PM org.apache.pdfbox.pdmodel.font.PDType1Font <init>\n",
            "WARNING: Using fallback font LiberationSans for base font Symbol\n",
            "Aug 29, 2025 8:46:33 PM org.apache.pdfbox.pdmodel.font.PDType1Font <init>\n",
            "WARNING: Using fallback font LiberationSans for base font ZapfDingbats\n",
            "\n"
          ]
        },
        {
          "output_type": "stream",
          "name": "stdout",
          "text": [
            "✅ 50 tablas extraídas de REGISTROS PRESUPUESTALES CONSECUTIVO 2019 (2).pdf\n",
            "\n",
            "⏳ Procesando: REGISTROS PRESUPUESTALES CONSECUTIVO 2006 (1).pdf\n"
          ]
        },
        {
          "output_type": "stream",
          "name": "stderr",
          "text": [
            "WARNING:tabula.backend:Got stderr: Aug 29, 2025 8:46:53 PM org.apache.pdfbox.pdmodel.font.PDType1Font <init>\n",
            "WARNING: Using fallback font LiberationSans for base font Symbol\n",
            "Aug 29, 2025 8:46:53 PM org.apache.pdfbox.pdmodel.font.PDType1Font <init>\n",
            "WARNING: Using fallback font LiberationSans for base font ZapfDingbats\n",
            "\n"
          ]
        },
        {
          "output_type": "stream",
          "name": "stdout",
          "text": [
            "✅ 24 tablas extraídas de REGISTROS PRESUPUESTALES CONSECUTIVO 2006 (1).pdf\n",
            "\n",
            "⏳ Procesando: REGISTROS PRESUPUESTALES CONSECUTIVO 2005 (2).pdf\n"
          ]
        },
        {
          "output_type": "stream",
          "name": "stderr",
          "text": [
            "WARNING:tabula.backend:Got stderr: Aug 29, 2025 8:47:06 PM org.apache.pdfbox.pdmodel.font.PDType1Font <init>\n",
            "WARNING: Using fallback font LiberationSans for base font Symbol\n",
            "Aug 29, 2025 8:47:06 PM org.apache.pdfbox.pdmodel.font.PDType1Font <init>\n",
            "WARNING: Using fallback font LiberationSans for base font ZapfDingbats\n",
            "\n"
          ]
        },
        {
          "output_type": "stream",
          "name": "stdout",
          "text": [
            "✅ 21 tablas extraídas de REGISTROS PRESUPUESTALES CONSECUTIVO 2005 (2).pdf\n",
            "\n",
            "⏳ Procesando: REGISTROS PRESUPUESTALES CONSECUTIVO 2014.pdf\n"
          ]
        },
        {
          "output_type": "stream",
          "name": "stderr",
          "text": [
            "WARNING:tabula.backend:Got stderr: Aug 29, 2025 8:47:19 PM org.apache.pdfbox.pdmodel.font.PDType1Font <init>\n",
            "WARNING: Using fallback font LiberationSans for base font Symbol\n",
            "Aug 29, 2025 8:47:19 PM org.apache.pdfbox.pdmodel.font.PDType1Font <init>\n",
            "WARNING: Using fallback font LiberationSans for base font ZapfDingbats\n",
            "\n"
          ]
        },
        {
          "output_type": "stream",
          "name": "stdout",
          "text": [
            "✅ 42 tablas extraídas de REGISTROS PRESUPUESTALES CONSECUTIVO 2014.pdf\n",
            "\n",
            "⏳ Procesando: REGISTROS PRESUPUESTALES CONSECUTIVO 2008 (2).pdf\n"
          ]
        },
        {
          "output_type": "stream",
          "name": "stderr",
          "text": [
            "WARNING:tabula.backend:Got stderr: Aug 29, 2025 8:47:38 PM org.apache.pdfbox.pdmodel.font.PDType1Font <init>\n",
            "WARNING: Using fallback font LiberationSans for base font Symbol\n",
            "Aug 29, 2025 8:47:38 PM org.apache.pdfbox.pdmodel.font.PDType1Font <init>\n",
            "WARNING: Using fallback font LiberationSans for base font ZapfDingbats\n",
            "\n"
          ]
        },
        {
          "output_type": "stream",
          "name": "stdout",
          "text": [
            "✅ 29 tablas extraídas de REGISTROS PRESUPUESTALES CONSECUTIVO 2008 (2).pdf\n",
            "\n",
            "📊 Consolidado guardado en 'Consolidado_PDFs.xlsx'\n"
          ]
        }
      ]
    },
    {
      "cell_type": "code",
      "source": [
        "from google.colab import files\n",
        "\n",
        "files.download(\"Consolidado_PDFs.xlsx\")\n"
      ],
      "metadata": {
        "colab": {
          "base_uri": "https://localhost:8080/",
          "height": 17
        },
        "id": "tt_ZcwM_m1Xg",
        "outputId": "21e2ee20-ed5d-4822-c099-05581327acc8"
      },
      "execution_count": null,
      "outputs": [
        {
          "output_type": "display_data",
          "data": {
            "text/plain": [
              "<IPython.core.display.Javascript object>"
            ],
            "application/javascript": [
              "\n",
              "    async function download(id, filename, size) {\n",
              "      if (!google.colab.kernel.accessAllowed) {\n",
              "        return;\n",
              "      }\n",
              "      const div = document.createElement('div');\n",
              "      const label = document.createElement('label');\n",
              "      label.textContent = `Downloading \"${filename}\": `;\n",
              "      div.appendChild(label);\n",
              "      const progress = document.createElement('progress');\n",
              "      progress.max = size;\n",
              "      div.appendChild(progress);\n",
              "      document.body.appendChild(div);\n",
              "\n",
              "      const buffers = [];\n",
              "      let downloaded = 0;\n",
              "\n",
              "      const channel = await google.colab.kernel.comms.open(id);\n",
              "      // Send a message to notify the kernel that we're ready.\n",
              "      channel.send({})\n",
              "\n",
              "      for await (const message of channel.messages) {\n",
              "        // Send a message to notify the kernel that we're ready.\n",
              "        channel.send({})\n",
              "        if (message.buffers) {\n",
              "          for (const buffer of message.buffers) {\n",
              "            buffers.push(buffer);\n",
              "            downloaded += buffer.byteLength;\n",
              "            progress.value = downloaded;\n",
              "          }\n",
              "        }\n",
              "      }\n",
              "      const blob = new Blob(buffers, {type: 'application/binary'});\n",
              "      const a = document.createElement('a');\n",
              "      a.href = window.URL.createObjectURL(blob);\n",
              "      a.download = filename;\n",
              "      div.appendChild(a);\n",
              "      a.click();\n",
              "      div.remove();\n",
              "    }\n",
              "  "
            ]
          },
          "metadata": {}
        },
        {
          "output_type": "display_data",
          "data": {
            "text/plain": [
              "<IPython.core.display.Javascript object>"
            ],
            "application/javascript": [
              "download(\"download_a01b1257-c89f-4058-97c6-ca71bfa0b6e9\", \"Consolidado_PDFs.xlsx\", 824089)"
            ]
          },
          "metadata": {}
        }
      ]
    }
  ]
}